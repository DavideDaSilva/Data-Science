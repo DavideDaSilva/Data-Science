{
 "cells": [
  {
   "cell_type": "markdown",
   "id": "137b0ed3-99db-481f-a202-2444a04e6526",
   "metadata": {},
   "source": [
    "### Contextualização:\n",
    "\n",
    "Um levantamento foi realizado com o objetivo de investigar a influência de normas culturais e a aplicação da lei no controle da corrupção, focando no comportamento de estacionamento dos diplomatas das Nações Unidas em Manhattan. Até 2002, a imunidade diplomática protegia os diplomatas da ONU de penalidades de estacionamento, deixando suas ações restritas apenas pelas normas culturais. Em 2002, as autoridades adquiriram o direito de confiscar as placas diplomáticas dos infratores.\n",
    "\n",
    "**Perguntas**:\n",
    "\n",
    "1. Qual seria a quantidade média esperada de violações de trânsito para um país cujo corpo diplomático seja composto por X1 membros, considerando o período anterior à vigência da lei e cujo índice de corrupção seja igual a X2?\n",
    "\n",
    "2. Qual seria a quantidade média esperada de violações de trânsito para o mesmo país, porém agora considerando a vigência da lei?\n",
    "\n",
    "Para isso, serão construídos um <span style=\"font-family:Comic Sans MS; color:red\">modelo preditivo Poisson</span> e um <span style=\"font-family:Comic Sans MS; color:red\">modelo preditivo Binomial Negativo</span> e, por fim, será feita a comparação dos resultados produzidos pelos modelos.los."
   ]
  },
  {
   "cell_type": "code",
   "execution_count": null,
   "id": "f04585d6-4caa-4eb0-8ecf-cd1aa3effb14",
   "metadata": {},
   "outputs": [],
   "source": []
  }
 ],
 "metadata": {
  "kernelspec": {
   "display_name": "Python 3 (ipykernel)",
   "language": "python",
   "name": "python3"
  },
  "language_info": {
   "codemirror_mode": {
    "name": "ipython",
    "version": 3
   },
   "file_extension": ".py",
   "mimetype": "text/x-python",
   "name": "python",
   "nbconvert_exporter": "python",
   "pygments_lexer": "ipython3",
   "version": "3.11.7"
  }
 },
 "nbformat": 4,
 "nbformat_minor": 5
}
