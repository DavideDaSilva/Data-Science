{
 "cells": [
  {
   "cell_type": "markdown",
   "id": "d1aa424c-1cb1-4082-b5e0-b03261e290cd",
   "metadata": {},
   "source": [
    "## Objetivo da análise: agrupar clientes de uma operadora de cartão de crédito\n",
    "#### Analisar os grupos de clientes mais e menos leais à marca"
   ]
  },
  {
   "cell_type": "markdown",
   "id": "bca9a2a4-50a1-4834-ab4c-f7a709bc7a00",
   "metadata": {},
   "source": [
    "#### "
   ]
  },
  {
   "cell_type": "markdown",
   "id": "5402f5a6-4dc2-42d7-bcb1-963d9d7c5caa",
   "metadata": {},
   "source": [
    "### Instalando os pacotes"
   ]
  },
  {
   "cell_type": "code",
   "execution_count": 1,
   "id": "f4d7ceba-57d8-454e-a29a-bb6e6dbbc3c7",
   "metadata": {},
   "outputs": [
    {
     "name": "stdout",
     "output_type": "stream",
     "text": [
      "Requirement already satisfied: pandas in c:\\users\\khomp\\uspesalqmba\\lib\\site-packages (2.1.4)\n",
      "Requirement already satisfied: numpy<2,>=1.23.2 in c:\\users\\khomp\\uspesalqmba\\lib\\site-packages (from pandas) (1.26.4)\n",
      "Requirement already satisfied: python-dateutil>=2.8.2 in c:\\users\\khomp\\uspesalqmba\\lib\\site-packages (from pandas) (2.8.2)\n",
      "Requirement already satisfied: pytz>=2020.1 in c:\\users\\khomp\\uspesalqmba\\lib\\site-packages (from pandas) (2023.3.post1)\n",
      "Requirement already satisfied: tzdata>=2022.1 in c:\\users\\khomp\\uspesalqmba\\lib\\site-packages (from pandas) (2023.3)\n",
      "Requirement already satisfied: six>=1.5 in c:\\users\\khomp\\uspesalqmba\\lib\\site-packages (from python-dateutil>=2.8.2->pandas) (1.16.0)\n",
      "Requirement already satisfied: numpy in c:\\users\\khomp\\uspesalqmba\\lib\\site-packages (1.26.4)\n",
      "Requirement already satisfied: matplotlib in c:\\users\\khomp\\uspesalqmba\\lib\\site-packages (3.8.0)\n",
      "Requirement already satisfied: contourpy>=1.0.1 in c:\\users\\khomp\\uspesalqmba\\lib\\site-packages (from matplotlib) (1.2.0)\n",
      "Requirement already satisfied: cycler>=0.10 in c:\\users\\khomp\\uspesalqmba\\lib\\site-packages (from matplotlib) (0.11.0)\n",
      "Requirement already satisfied: fonttools>=4.22.0 in c:\\users\\khomp\\uspesalqmba\\lib\\site-packages (from matplotlib) (4.25.0)\n",
      "Requirement already satisfied: kiwisolver>=1.0.1 in c:\\users\\khomp\\uspesalqmba\\lib\\site-packages (from matplotlib) (1.4.4)\n",
      "Requirement already satisfied: numpy<2,>=1.21 in c:\\users\\khomp\\uspesalqmba\\lib\\site-packages (from matplotlib) (1.26.4)\n",
      "Requirement already satisfied: packaging>=20.0 in c:\\users\\khomp\\uspesalqmba\\lib\\site-packages (from matplotlib) (23.1)\n",
      "Requirement already satisfied: pillow>=6.2.0 in c:\\users\\khomp\\uspesalqmba\\lib\\site-packages (from matplotlib) (10.2.0)\n",
      "Requirement already satisfied: pyparsing>=2.3.1 in c:\\users\\khomp\\uspesalqmba\\lib\\site-packages (from matplotlib) (3.0.9)\n",
      "Requirement already satisfied: python-dateutil>=2.7 in c:\\users\\khomp\\uspesalqmba\\lib\\site-packages (from matplotlib) (2.8.2)\n",
      "Requirement already satisfied: six>=1.5 in c:\\users\\khomp\\uspesalqmba\\lib\\site-packages (from python-dateutil>=2.7->matplotlib) (1.16.0)\n",
      "Requirement already satisfied: seaborn in c:\\users\\khomp\\uspesalqmba\\lib\\site-packages (0.13.2)\n",
      "Requirement already satisfied: numpy!=1.24.0,>=1.20 in c:\\users\\khomp\\uspesalqmba\\lib\\site-packages (from seaborn) (1.26.4)\n",
      "Requirement already satisfied: pandas>=1.2 in c:\\users\\khomp\\uspesalqmba\\lib\\site-packages (from seaborn) (2.1.4)\n",
      "Requirement already satisfied: matplotlib!=3.6.1,>=3.4 in c:\\users\\khomp\\uspesalqmba\\lib\\site-packages (from seaborn) (3.8.0)\n",
      "Requirement already satisfied: contourpy>=1.0.1 in c:\\users\\khomp\\uspesalqmba\\lib\\site-packages (from matplotlib!=3.6.1,>=3.4->seaborn) (1.2.0)\n",
      "Requirement already satisfied: cycler>=0.10 in c:\\users\\khomp\\uspesalqmba\\lib\\site-packages (from matplotlib!=3.6.1,>=3.4->seaborn) (0.11.0)\n",
      "Requirement already satisfied: fonttools>=4.22.0 in c:\\users\\khomp\\uspesalqmba\\lib\\site-packages (from matplotlib!=3.6.1,>=3.4->seaborn) (4.25.0)\n",
      "Requirement already satisfied: kiwisolver>=1.0.1 in c:\\users\\khomp\\uspesalqmba\\lib\\site-packages (from matplotlib!=3.6.1,>=3.4->seaborn) (1.4.4)\n",
      "Requirement already satisfied: packaging>=20.0 in c:\\users\\khomp\\uspesalqmba\\lib\\site-packages (from matplotlib!=3.6.1,>=3.4->seaborn) (23.1)\n",
      "Requirement already satisfied: pillow>=6.2.0 in c:\\users\\khomp\\uspesalqmba\\lib\\site-packages (from matplotlib!=3.6.1,>=3.4->seaborn) (10.2.0)\n",
      "Requirement already satisfied: pyparsing>=2.3.1 in c:\\users\\khomp\\uspesalqmba\\lib\\site-packages (from matplotlib!=3.6.1,>=3.4->seaborn) (3.0.9)\n",
      "Requirement already satisfied: python-dateutil>=2.7 in c:\\users\\khomp\\uspesalqmba\\lib\\site-packages (from matplotlib!=3.6.1,>=3.4->seaborn) (2.8.2)\n",
      "Requirement already satisfied: pytz>=2020.1 in c:\\users\\khomp\\uspesalqmba\\lib\\site-packages (from pandas>=1.2->seaborn) (2023.3.post1)\n",
      "Requirement already satisfied: tzdata>=2022.1 in c:\\users\\khomp\\uspesalqmba\\lib\\site-packages (from pandas>=1.2->seaborn) (2023.3)\n",
      "Requirement already satisfied: six>=1.5 in c:\\users\\khomp\\uspesalqmba\\lib\\site-packages (from python-dateutil>=2.7->matplotlib!=3.6.1,>=3.4->seaborn) (1.16.0)\n",
      "Requirement already satisfied: plotly in c:\\users\\khomp\\uspesalqmba\\lib\\site-packages (5.9.0)\n",
      "Requirement already satisfied: tenacity>=6.2.0 in c:\\users\\khomp\\uspesalqmba\\lib\\site-packages (from plotly) (8.2.2)\n",
      "Requirement already satisfied: scipy in c:\\users\\khomp\\uspesalqmba\\lib\\site-packages (1.11.4)\n",
      "Requirement already satisfied: numpy<1.28.0,>=1.21.6 in c:\\users\\khomp\\uspesalqmba\\lib\\site-packages (from scipy) (1.26.4)\n",
      "Requirement already satisfied: scikit-learn in c:\\users\\khomp\\uspesalqmba\\lib\\site-packages (1.2.2)\n",
      "Requirement already satisfied: numpy>=1.17.3 in c:\\users\\khomp\\uspesalqmba\\lib\\site-packages (from scikit-learn) (1.26.4)\n",
      "Requirement already satisfied: scipy>=1.3.2 in c:\\users\\khomp\\uspesalqmba\\lib\\site-packages (from scikit-learn) (1.11.4)\n",
      "Requirement already satisfied: joblib>=1.1.1 in c:\\users\\khomp\\uspesalqmba\\lib\\site-packages (from scikit-learn) (1.2.0)\n",
      "Requirement already satisfied: threadpoolctl>=2.0.0 in c:\\users\\khomp\\uspesalqmba\\lib\\site-packages (from scikit-learn) (2.2.0)\n",
      "Requirement already satisfied: pingouin in c:\\users\\khomp\\uspesalqmba\\lib\\site-packages (0.5.4)\n",
      "Requirement already satisfied: numpy in c:\\users\\khomp\\uspesalqmba\\lib\\site-packages (from pingouin) (1.26.4)\n",
      "Requirement already satisfied: scipy in c:\\users\\khomp\\uspesalqmba\\lib\\site-packages (from pingouin) (1.11.4)\n",
      "Requirement already satisfied: pandas>=1.5 in c:\\users\\khomp\\uspesalqmba\\lib\\site-packages (from pingouin) (2.1.4)\n",
      "Requirement already satisfied: matplotlib in c:\\users\\khomp\\uspesalqmba\\lib\\site-packages (from pingouin) (3.8.0)\n",
      "Requirement already satisfied: seaborn in c:\\users\\khomp\\uspesalqmba\\lib\\site-packages (from pingouin) (0.13.2)\n",
      "Requirement already satisfied: statsmodels in c:\\users\\khomp\\uspesalqmba\\lib\\site-packages (from pingouin) (0.14.0)\n",
      "Requirement already satisfied: scikit-learn in c:\\users\\khomp\\uspesalqmba\\lib\\site-packages (from pingouin) (1.2.2)\n",
      "Requirement already satisfied: pandas-flavor in c:\\users\\khomp\\uspesalqmba\\lib\\site-packages (from pingouin) (0.6.0)\n",
      "Requirement already satisfied: tabulate in c:\\users\\khomp\\uspesalqmba\\lib\\site-packages (from pingouin) (0.9.0)\n",
      "Requirement already satisfied: python-dateutil>=2.8.2 in c:\\users\\khomp\\uspesalqmba\\lib\\site-packages (from pandas>=1.5->pingouin) (2.8.2)\n",
      "Requirement already satisfied: pytz>=2020.1 in c:\\users\\khomp\\uspesalqmba\\lib\\site-packages (from pandas>=1.5->pingouin) (2023.3.post1)\n",
      "Requirement already satisfied: tzdata>=2022.1 in c:\\users\\khomp\\uspesalqmba\\lib\\site-packages (from pandas>=1.5->pingouin) (2023.3)\n",
      "Requirement already satisfied: contourpy>=1.0.1 in c:\\users\\khomp\\uspesalqmba\\lib\\site-packages (from matplotlib->pingouin) (1.2.0)\n",
      "Requirement already satisfied: cycler>=0.10 in c:\\users\\khomp\\uspesalqmba\\lib\\site-packages (from matplotlib->pingouin) (0.11.0)\n",
      "Requirement already satisfied: fonttools>=4.22.0 in c:\\users\\khomp\\uspesalqmba\\lib\\site-packages (from matplotlib->pingouin) (4.25.0)\n",
      "Requirement already satisfied: kiwisolver>=1.0.1 in c:\\users\\khomp\\uspesalqmba\\lib\\site-packages (from matplotlib->pingouin) (1.4.4)\n",
      "Requirement already satisfied: packaging>=20.0 in c:\\users\\khomp\\uspesalqmba\\lib\\site-packages (from matplotlib->pingouin) (23.1)\n",
      "Requirement already satisfied: pillow>=6.2.0 in c:\\users\\khomp\\uspesalqmba\\lib\\site-packages (from matplotlib->pingouin) (10.2.0)\n",
      "Requirement already satisfied: pyparsing>=2.3.1 in c:\\users\\khomp\\uspesalqmba\\lib\\site-packages (from matplotlib->pingouin) (3.0.9)\n",
      "Requirement already satisfied: xarray in c:\\users\\khomp\\uspesalqmba\\lib\\site-packages (from pandas-flavor->pingouin) (2023.6.0)\n",
      "Requirement already satisfied: joblib>=1.1.1 in c:\\users\\khomp\\uspesalqmba\\lib\\site-packages (from scikit-learn->pingouin) (1.2.0)\n",
      "Requirement already satisfied: threadpoolctl>=2.0.0 in c:\\users\\khomp\\uspesalqmba\\lib\\site-packages (from scikit-learn->pingouin) (2.2.0)\n",
      "Requirement already satisfied: patsy>=0.5.2 in c:\\users\\khomp\\uspesalqmba\\lib\\site-packages (from statsmodels->pingouin) (0.5.3)\n",
      "Requirement already satisfied: six in c:\\users\\khomp\\uspesalqmba\\lib\\site-packages (from patsy>=0.5.2->statsmodels->pingouin) (1.16.0)\n"
     ]
    }
   ],
   "source": [
    "!pip install pandas\n",
    "!pip install numpy\n",
    "!pip install matplotlib\n",
    "!pip install seaborn\n",
    "!pip install plotly\n",
    "!pip install scipy\n",
    "!pip install scikit-learn\n",
    "!pip install pingouin\n"
   ]
  },
  {
   "cell_type": "code",
   "execution_count": 26,
   "id": "d0b18d2a-b2c4-4e6e-93f3-7bda73f58169",
   "metadata": {},
   "outputs": [],
   "source": [
    "### Importando os pacotes\n",
    "\n",
    "import pandas as pd\n",
    "import numpy as np\n",
    "import matplotlib.pyplot as plt\n",
    "import seaborn as sns\n",
    "import scipy.cluster.hierarchy as sch\n",
    "import scipy.stats as stats\n",
    "from scipy.stats import zscore\n",
    "from scipy.spatial.distance import pdist\n",
    "from sklearn.cluster import AgglomerativeClustering\n",
    "from sklearn.cluster import KMeans\n",
    "from sklearn.metrics import silhouette_score\n",
    "import pingouin as pg\n",
    "import plotly.express as px \n",
    "import plotly.io as pio\n",
    "pio.renderers.default='browser'"
   ]
  },
  {
   "cell_type": "markdown",
   "id": "209193ee-82f1-458b-ad26-afbf99142888",
   "metadata": {},
   "source": [
    "#### Importando o banco de dados"
   ]
  },
  {
   "cell_type": "code",
   "execution_count": 27,
   "id": "7f7ce0c6-cce8-4351-97d0-9034f4f9964e",
   "metadata": {},
   "outputs": [],
   "source": [
    "dados_cartao = pd.read_csv('cartao_credito.csv')\n",
    "## Fonte: https://www.kaggle.com/datasets/aryashah2k/credit-card-customer-data"
   ]
  },
  {
   "cell_type": "markdown",
   "id": "6902d0b9-5e3b-474b-80f4-02bfd9d1d4f8",
   "metadata": {},
   "source": [
    "#### Visualizando informações sobre os dados e variáveis"
   ]
  },
  {
   "cell_type": "code",
   "execution_count": 28,
   "id": "49b18981-6658-4757-832c-b89d690bea2f",
   "metadata": {},
   "outputs": [
    {
     "name": "stdout",
     "output_type": "stream",
     "text": [
      "<class 'pandas.core.frame.DataFrame'>\n",
      "RangeIndex: 660 entries, 0 to 659\n",
      "Data columns (total 7 columns):\n",
      " #   Column               Non-Null Count  Dtype\n",
      "---  ------               --------------  -----\n",
      " 0   Sl_No                660 non-null    int64\n",
      " 1   Customer Key         660 non-null    int64\n",
      " 2   Avg_Credit_Limit     660 non-null    int64\n",
      " 3   Total_Credit_Cards   660 non-null    int64\n",
      " 4   Total_visits_bank    660 non-null    int64\n",
      " 5   Total_visits_online  660 non-null    int64\n",
      " 6   Total_calls_made     660 non-null    int64\n",
      "dtypes: int64(7)\n",
      "memory usage: 36.2 KB\n",
      "None\n"
     ]
    }
   ],
   "source": [
    "# Estrutura do banco de dados\n",
    "\n",
    "print(dados_cartao.info())"
   ]
  },
  {
   "cell_type": "markdown",
   "id": "4c88682d-77c0-40c9-868f-39ab731415fc",
   "metadata": {},
   "source": [
    "#### Estatísticas descritivas das variáveis"
   ]
  },
  {
   "cell_type": "code",
   "execution_count": 29,
   "id": "f3c7b82d-c239-4cff-816e-49f8fb42b3f7",
   "metadata": {},
   "outputs": [
    {
     "name": "stdout",
     "output_type": "stream",
     "text": [
      "                     count          mean           std     min      25%  \\\n",
      "Avg_Credit_Limit     660.0  34574.242424  37625.487804  3000.0  10000.0   \n",
      "Total_Credit_Cards   660.0      4.706061      2.167835     1.0      3.0   \n",
      "Total_visits_bank    660.0      2.403030      1.631813     0.0      1.0   \n",
      "Total_visits_online  660.0      2.606061      2.935724     0.0      1.0   \n",
      "Total_calls_made     660.0      3.583333      2.865317     0.0      1.0   \n",
      "\n",
      "                         50%      75%       max  \n",
      "Avg_Credit_Limit     18000.0  48000.0  200000.0  \n",
      "Total_Credit_Cards       5.0      6.0      10.0  \n",
      "Total_visits_bank        2.0      4.0       5.0  \n",
      "Total_visits_online      2.0      4.0      15.0  \n",
      "Total_calls_made         3.0      5.0      10.0  \n"
     ]
    }
   ],
   "source": [
    "# Primeiramente, vamos excluir as variáveis que não serão utilizadas\n",
    "\n",
    "cartao_cluster = dados_cartao.drop(columns=['Sl_No', 'Customer Key'])\n",
    "\n",
    "# Obtendo as estatísticas descritivas das variáveis\n",
    "\n",
    "tab_descritivas = cartao_cluster.describe().T\n",
    "print(tab_descritivas)\n",
    "# Vamos padronizar as variáveis antes da clusterização!"
   ]
  },
  {
   "cell_type": "markdown",
   "id": "cf490c4c-9dcc-4748-9b88-49981c861b5f",
   "metadata": {},
   "source": [
    "#### Padronização por meio do Z-Score"
   ]
  },
  {
   "cell_type": "code",
   "execution_count": 30,
   "id": "a2430445-a5c3-44d4-b3d9-9183b99fa2c8",
   "metadata": {},
   "outputs": [
    {
     "name": "stdout",
     "output_type": "stream",
     "text": [
      "Avg_Credit_Limit       0.0\n",
      "Total_Credit_Cards     0.0\n",
      "Total_visits_bank      0.0\n",
      "Total_visits_online    0.0\n",
      "Total_calls_made      -0.0\n",
      "dtype: float64\n",
      "Avg_Credit_Limit       1.0\n",
      "Total_Credit_Cards     1.0\n",
      "Total_visits_bank      1.0\n",
      "Total_visits_online    1.0\n",
      "Total_calls_made       1.0\n",
      "dtype: float64\n"
     ]
    }
   ],
   "source": [
    "# Aplicando o procedimento de ZScore\n",
    "cartao_pad = cartao_cluster.apply(zscore, ddof=1)\n",
    "\n",
    "# Visualizando o resultado do procedimento na média e desvio padrão\n",
    "print(round(cartao_pad.mean(), 3))\n",
    "print(round(cartao_pad.std(), 3))"
   ]
  },
  {
   "cell_type": "markdown",
   "id": "cb2fcd69-d323-4425-999a-95abdd41543a",
   "metadata": {},
   "source": [
    "#### Gráfico 3D das observações"
   ]
  },
  {
   "cell_type": "code",
   "execution_count": 31,
   "id": "7cd4cdaf-8b1c-4cff-bdbc-696abb50eae5",
   "metadata": {},
   "outputs": [],
   "source": [
    "fig = px.scatter_3d(cartao_pad, \n",
    "                    x='Avg_Credit_Limit', \n",
    "                    y='Total_Credit_Cards', \n",
    "                    z='Total_visits_bank')\n",
    "fig.show()"
   ]
  },
  {
   "cell_type": "markdown",
   "id": "bb5a59fb-056a-4005-a480-e968f1c204a3",
   "metadata": {},
   "source": [
    "#### Identificação da quantidade de clusters (Método Elbow)"
   ]
  },
  {
   "cell_type": "code",
   "execution_count": 32,
   "id": "adfdb47d-b04d-4413-9d90-ce829280b469",
   "metadata": {},
   "outputs": [
    {
     "name": "stderr",
     "output_type": "stream",
     "text": [
      "C:\\Users\\Khomp\\USPesalqMBA\\Lib\\site-packages\\sklearn\\cluster\\_kmeans.py:870: FutureWarning:\n",
      "\n",
      "The default value of `n_init` will change from 10 to 'auto' in 1.4. Set the value of `n_init` explicitly to suppress the warning\n",
      "\n",
      "C:\\Users\\Khomp\\USPesalqMBA\\Lib\\site-packages\\sklearn\\cluster\\_kmeans.py:1382: UserWarning:\n",
      "\n",
      "KMeans is known to have a memory leak on Windows with MKL, when there are less chunks than available threads. You can avoid it by setting the environment variable OMP_NUM_THREADS=3.\n",
      "\n",
      "C:\\Users\\Khomp\\USPesalqMBA\\Lib\\site-packages\\sklearn\\cluster\\_kmeans.py:870: FutureWarning:\n",
      "\n",
      "The default value of `n_init` will change from 10 to 'auto' in 1.4. Set the value of `n_init` explicitly to suppress the warning\n",
      "\n",
      "C:\\Users\\Khomp\\USPesalqMBA\\Lib\\site-packages\\sklearn\\cluster\\_kmeans.py:1382: UserWarning:\n",
      "\n",
      "KMeans is known to have a memory leak on Windows with MKL, when there are less chunks than available threads. You can avoid it by setting the environment variable OMP_NUM_THREADS=3.\n",
      "\n",
      "C:\\Users\\Khomp\\USPesalqMBA\\Lib\\site-packages\\sklearn\\cluster\\_kmeans.py:870: FutureWarning:\n",
      "\n",
      "The default value of `n_init` will change from 10 to 'auto' in 1.4. Set the value of `n_init` explicitly to suppress the warning\n",
      "\n",
      "C:\\Users\\Khomp\\USPesalqMBA\\Lib\\site-packages\\sklearn\\cluster\\_kmeans.py:1382: UserWarning:\n",
      "\n",
      "KMeans is known to have a memory leak on Windows with MKL, when there are less chunks than available threads. You can avoid it by setting the environment variable OMP_NUM_THREADS=3.\n",
      "\n",
      "C:\\Users\\Khomp\\USPesalqMBA\\Lib\\site-packages\\sklearn\\cluster\\_kmeans.py:870: FutureWarning:\n",
      "\n",
      "The default value of `n_init` will change from 10 to 'auto' in 1.4. Set the value of `n_init` explicitly to suppress the warning\n",
      "\n",
      "C:\\Users\\Khomp\\USPesalqMBA\\Lib\\site-packages\\sklearn\\cluster\\_kmeans.py:1382: UserWarning:\n",
      "\n",
      "KMeans is known to have a memory leak on Windows with MKL, when there are less chunks than available threads. You can avoid it by setting the environment variable OMP_NUM_THREADS=3.\n",
      "\n",
      "C:\\Users\\Khomp\\USPesalqMBA\\Lib\\site-packages\\sklearn\\cluster\\_kmeans.py:870: FutureWarning:\n",
      "\n",
      "The default value of `n_init` will change from 10 to 'auto' in 1.4. Set the value of `n_init` explicitly to suppress the warning\n",
      "\n",
      "C:\\Users\\Khomp\\USPesalqMBA\\Lib\\site-packages\\sklearn\\cluster\\_kmeans.py:1382: UserWarning:\n",
      "\n",
      "KMeans is known to have a memory leak on Windows with MKL, when there are less chunks than available threads. You can avoid it by setting the environment variable OMP_NUM_THREADS=3.\n",
      "\n",
      "C:\\Users\\Khomp\\USPesalqMBA\\Lib\\site-packages\\sklearn\\cluster\\_kmeans.py:870: FutureWarning:\n",
      "\n",
      "The default value of `n_init` will change from 10 to 'auto' in 1.4. Set the value of `n_init` explicitly to suppress the warning\n",
      "\n",
      "C:\\Users\\Khomp\\USPesalqMBA\\Lib\\site-packages\\sklearn\\cluster\\_kmeans.py:1382: UserWarning:\n",
      "\n",
      "KMeans is known to have a memory leak on Windows with MKL, when there are less chunks than available threads. You can avoid it by setting the environment variable OMP_NUM_THREADS=3.\n",
      "\n",
      "C:\\Users\\Khomp\\USPesalqMBA\\Lib\\site-packages\\sklearn\\cluster\\_kmeans.py:870: FutureWarning:\n",
      "\n",
      "The default value of `n_init` will change from 10 to 'auto' in 1.4. Set the value of `n_init` explicitly to suppress the warning\n",
      "\n",
      "C:\\Users\\Khomp\\USPesalqMBA\\Lib\\site-packages\\sklearn\\cluster\\_kmeans.py:1382: UserWarning:\n",
      "\n",
      "KMeans is known to have a memory leak on Windows with MKL, when there are less chunks than available threads. You can avoid it by setting the environment variable OMP_NUM_THREADS=3.\n",
      "\n",
      "C:\\Users\\Khomp\\USPesalqMBA\\Lib\\site-packages\\sklearn\\cluster\\_kmeans.py:870: FutureWarning:\n",
      "\n",
      "The default value of `n_init` will change from 10 to 'auto' in 1.4. Set the value of `n_init` explicitly to suppress the warning\n",
      "\n",
      "C:\\Users\\Khomp\\USPesalqMBA\\Lib\\site-packages\\sklearn\\cluster\\_kmeans.py:1382: UserWarning:\n",
      "\n",
      "KMeans is known to have a memory leak on Windows with MKL, when there are less chunks than available threads. You can avoid it by setting the environment variable OMP_NUM_THREADS=3.\n",
      "\n",
      "C:\\Users\\Khomp\\USPesalqMBA\\Lib\\site-packages\\sklearn\\cluster\\_kmeans.py:870: FutureWarning:\n",
      "\n",
      "The default value of `n_init` will change from 10 to 'auto' in 1.4. Set the value of `n_init` explicitly to suppress the warning\n",
      "\n",
      "C:\\Users\\Khomp\\USPesalqMBA\\Lib\\site-packages\\sklearn\\cluster\\_kmeans.py:1382: UserWarning:\n",
      "\n",
      "KMeans is known to have a memory leak on Windows with MKL, when there are less chunks than available threads. You can avoid it by setting the environment variable OMP_NUM_THREADS=3.\n",
      "\n",
      "C:\\Users\\Khomp\\USPesalqMBA\\Lib\\site-packages\\sklearn\\cluster\\_kmeans.py:870: FutureWarning:\n",
      "\n",
      "The default value of `n_init` will change from 10 to 'auto' in 1.4. Set the value of `n_init` explicitly to suppress the warning\n",
      "\n",
      "C:\\Users\\Khomp\\USPesalqMBA\\Lib\\site-packages\\sklearn\\cluster\\_kmeans.py:1382: UserWarning:\n",
      "\n",
      "KMeans is known to have a memory leak on Windows with MKL, when there are less chunks than available threads. You can avoid it by setting the environment variable OMP_NUM_THREADS=3.\n",
      "\n"
     ]
    },
    {
     "data": {
      "image/png": "[encoded data removed]",
      "text/plain": [
       "<Figure size 1600x800 with 1 Axes>"
      ]
     },
     "metadata": {},
     "output_type": "display_data"
    }
   ],
   "source": [
    "elbow = []\n",
    "K = range(1,11) # ponto de parada pode ser parametrizado manualmente\n",
    "for k in K:\n",
    "    kmeanElbow = KMeans(n_clusters=k, init='random', random_state=100).fit(cartao_pad)\n",
    "    elbow.append(kmeanElbow.inertia_)\n",
    "    \n",
    "plt.figure(figsize=(16,8))\n",
    "plt.plot(K, elbow, marker='o')\n",
    "plt.xlabel('Nº Clusters', fontsize=16)\n",
    "plt.xticks(range(1,11)) # ajustar range\n",
    "plt.ylabel('WCSS', fontsize=16)\n",
    "plt.title('Método de Elbow', fontsize=16)\n",
    "plt.show()"
   ]
  },
  {
   "cell_type": "markdown",
   "id": "eab54713-abf8-4727-8f12-fdad681f5641",
   "metadata": {},
   "source": [
    "#### Identificação da quantidade de clusters (Método da Silhueta)"
   ]
  },
  {
   "cell_type": "code",
   "execution_count": 33,
   "id": "e2900a92-9e4f-42ff-8897-24664235c005",
   "metadata": {},
   "outputs": [
    {
     "name": "stderr",
     "output_type": "stream",
     "text": [
      "C:\\Users\\Khomp\\USPesalqMBA\\Lib\\site-packages\\sklearn\\cluster\\_kmeans.py:870: FutureWarning:\n",
      "\n",
      "The default value of `n_init` will change from 10 to 'auto' in 1.4. Set the value of `n_init` explicitly to suppress the warning\n",
      "\n",
      "C:\\Users\\Khomp\\USPesalqMBA\\Lib\\site-packages\\sklearn\\cluster\\_kmeans.py:1382: UserWarning:\n",
      "\n",
      "KMeans is known to have a memory leak on Windows with MKL, when there are less chunks than available threads. You can avoid it by setting the environment variable OMP_NUM_THREADS=3.\n",
      "\n",
      "C:\\Users\\Khomp\\USPesalqMBA\\Lib\\site-packages\\sklearn\\cluster\\_kmeans.py:870: FutureWarning:\n",
      "\n",
      "The default value of `n_init` will change from 10 to 'auto' in 1.4. Set the value of `n_init` explicitly to suppress the warning\n",
      "\n",
      "C:\\Users\\Khomp\\USPesalqMBA\\Lib\\site-packages\\sklearn\\cluster\\_kmeans.py:1382: UserWarning:\n",
      "\n",
      "KMeans is known to have a memory leak on Windows with MKL, when there are less chunks than available threads. You can avoid it by setting the environment variable OMP_NUM_THREADS=3.\n",
      "\n",
      "C:\\Users\\Khomp\\USPesalqMBA\\Lib\\site-packages\\sklearn\\cluster\\_kmeans.py:870: FutureWarning:\n",
      "\n",
      "The default value of `n_init` will change from 10 to 'auto' in 1.4. Set the value of `n_init` explicitly to suppress the warning\n",
      "\n",
      "C:\\Users\\Khomp\\USPesalqMBA\\Lib\\site-packages\\sklearn\\cluster\\_kmeans.py:1382: UserWarning:\n",
      "\n",
      "KMeans is known to have a memory leak on Windows with MKL, when there are less chunks than available threads. You can avoid it by setting the environment variable OMP_NUM_THREADS=3.\n",
      "\n",
      "C:\\Users\\Khomp\\USPesalqMBA\\Lib\\site-packages\\sklearn\\cluster\\_kmeans.py:870: FutureWarning:\n",
      "\n",
      "The default value of `n_init` will change from 10 to 'auto' in 1.4. Set the value of `n_init` explicitly to suppress the warning\n",
      "\n",
      "C:\\Users\\Khomp\\USPesalqMBA\\Lib\\site-packages\\sklearn\\cluster\\_kmeans.py:1382: UserWarning:\n",
      "\n",
      "KMeans is known to have a memory leak on Windows with MKL, when there are less chunks than available threads. You can avoid it by setting the environment variable OMP_NUM_THREADS=3.\n",
      "\n",
      "C:\\Users\\Khomp\\USPesalqMBA\\Lib\\site-packages\\sklearn\\cluster\\_kmeans.py:870: FutureWarning:\n",
      "\n",
      "The default value of `n_init` will change from 10 to 'auto' in 1.4. Set the value of `n_init` explicitly to suppress the warning\n",
      "\n",
      "C:\\Users\\Khomp\\USPesalqMBA\\Lib\\site-packages\\sklearn\\cluster\\_kmeans.py:1382: UserWarning:\n",
      "\n",
      "KMeans is known to have a memory leak on Windows with MKL, when there are less chunks than available threads. You can avoid it by setting the environment variable OMP_NUM_THREADS=3.\n",
      "\n",
      "C:\\Users\\Khomp\\USPesalqMBA\\Lib\\site-packages\\sklearn\\cluster\\_kmeans.py:870: FutureWarning:\n",
      "\n",
      "The default value of `n_init` will change from 10 to 'auto' in 1.4. Set the value of `n_init` explicitly to suppress the warning\n",
      "\n",
      "C:\\Users\\Khomp\\USPesalqMBA\\Lib\\site-packages\\sklearn\\cluster\\_kmeans.py:1382: UserWarning:\n",
      "\n",
      "KMeans is known to have a memory leak on Windows with MKL, when there are less chunks than available threads. You can avoid it by setting the environment variable OMP_NUM_THREADS=3.\n",
      "\n",
      "C:\\Users\\Khomp\\USPesalqMBA\\Lib\\site-packages\\sklearn\\cluster\\_kmeans.py:870: FutureWarning:\n",
      "\n",
      "The default value of `n_init` will change from 10 to 'auto' in 1.4. Set the value of `n_init` explicitly to suppress the warning\n",
      "\n",
      "C:\\Users\\Khomp\\USPesalqMBA\\Lib\\site-packages\\sklearn\\cluster\\_kmeans.py:1382: UserWarning:\n",
      "\n",
      "KMeans is known to have a memory leak on Windows with MKL, when there are less chunks than available threads. You can avoid it by setting the environment variable OMP_NUM_THREADS=3.\n",
      "\n",
      "C:\\Users\\Khomp\\USPesalqMBA\\Lib\\site-packages\\sklearn\\cluster\\_kmeans.py:870: FutureWarning:\n",
      "\n",
      "The default value of `n_init` will change from 10 to 'auto' in 1.4. Set the value of `n_init` explicitly to suppress the warning\n",
      "\n",
      "C:\\Users\\Khomp\\USPesalqMBA\\Lib\\site-packages\\sklearn\\cluster\\_kmeans.py:1382: UserWarning:\n",
      "\n",
      "KMeans is known to have a memory leak on Windows with MKL, when there are less chunks than available threads. You can avoid it by setting the environment variable OMP_NUM_THREADS=3.\n",
      "\n",
      "C:\\Users\\Khomp\\USPesalqMBA\\Lib\\site-packages\\sklearn\\cluster\\_kmeans.py:870: FutureWarning:\n",
      "\n",
      "The default value of `n_init` will change from 10 to 'auto' in 1.4. Set the value of `n_init` explicitly to suppress the warning\n",
      "\n",
      "C:\\Users\\Khomp\\USPesalqMBA\\Lib\\site-packages\\sklearn\\cluster\\_kmeans.py:1382: UserWarning:\n",
      "\n",
      "KMeans is known to have a memory leak on Windows with MKL, when there are less chunks than available threads. You can avoid it by setting the environment variable OMP_NUM_THREADS=3.\n",
      "\n"
     ]
    },
    {
     "data": {
      "image/png": "[encoded data removed]",
      "text/plain": [
       "<Figure size 1600x800 with 1 Axes>"
      ]
     },
     "metadata": {},
     "output_type": "display_data"
    }
   ],
   "source": [
    "silhueta = []\n",
    "I = range(2,11) # ponto de parada pode ser parametrizado manualmente\n",
    "for i in I: \n",
    "    kmeansSil = KMeans(n_clusters=i, init='random', random_state=100).fit(cartao_pad)\n",
    "    silhueta.append(silhouette_score(cartao_pad, kmeansSil.labels_))\n",
    "\n",
    "plt.figure(figsize=(16,8))\n",
    "plt.plot(range(2, 11), silhueta, color = 'purple', marker='o')\n",
    "plt.xlabel('Nº Clusters', fontsize=16)\n",
    "plt.ylabel('Silhueta Média', fontsize=16)\n",
    "plt.title('Método da Silhueta', fontsize=16)\n",
    "plt.axvline(x = silhueta.index(max(silhueta))+2, linestyle = 'dotted', color = 'red') \n",
    "plt.show()"
   ]
  },
  {
   "cell_type": "markdown",
   "id": "33889775-5845-4705-aa5d-fa7e18082aa4",
   "metadata": {},
   "source": [
    "#### Cluster Não Hierárquico K-means"
   ]
  },
  {
   "cell_type": "code",
   "execution_count": 34,
   "id": "2fc3b3ed-5468-4e9a-b1fb-cbdac23cf89c",
   "metadata": {},
   "outputs": [
    {
     "name": "stderr",
     "output_type": "stream",
     "text": [
      "C:\\Users\\Khomp\\USPesalqMBA\\Lib\\site-packages\\sklearn\\cluster\\_kmeans.py:870: FutureWarning:\n",
      "\n",
      "The default value of `n_init` will change from 10 to 'auto' in 1.4. Set the value of `n_init` explicitly to suppress the warning\n",
      "\n",
      "C:\\Users\\Khomp\\USPesalqMBA\\Lib\\site-packages\\sklearn\\cluster\\_kmeans.py:1382: UserWarning:\n",
      "\n",
      "KMeans is known to have a memory leak on Windows with MKL, when there are less chunks than available threads. You can avoid it by setting the environment variable OMP_NUM_THREADS=3.\n",
      "\n"
     ]
    }
   ],
   "source": [
    "# Vamos considerar 3 clusters, considerando as evidências anteriores!\n",
    "\n",
    "kmeans_final = KMeans(n_clusters = 3, init = 'random', random_state=100).fit(cartao_pad)\n",
    "\n",
    "# Gerando a variável para identificarmos os clusters gerados\n",
    "\n",
    "kmeans_clusters = kmeans_final.labels_\n",
    "cartao_cluster['cluster_kmeans'] = kmeans_clusters\n",
    "cartao_pad['cluster_kmeans'] = kmeans_clusters\n",
    "cartao_cluster['cluster_kmeans'] = cartao_cluster['cluster_kmeans'].astype('category')\n",
    "cartao_pad['cluster_kmeans'] = cartao_pad['cluster_kmeans'].astype('category')"
   ]
  },
  {
   "cell_type": "markdown",
   "id": "0925f988-7fce-4203-b0b8-44c95bbe6b91",
   "metadata": {},
   "source": [
    "#### Análise de variância de um fator (ANOVA)"
   ]
  },
  {
   "cell_type": "code",
   "execution_count": 35,
   "id": "b9d0ddd2-87b5-4588-8061-fe056ef3e459",
   "metadata": {},
   "outputs": [
    {
     "data": {
      "text/html": [
       "<div>\n",
       "<style scoped>\n",
       "    .dataframe tbody tr th:only-of-type {\n",
       "        vertical-align: middle;\n",
       "    }\n",
       "\n",
       "    .dataframe tbody tr th {\n",
       "        vertical-align: top;\n",
       "    }\n",
       "\n",
       "    .dataframe thead th {\n",
       "        text-align: right;\n",
       "    }\n",
       "</style>\n",
       "<table border=\"1\" class=\"dataframe\">\n",
       "  <thead>\n",
       "    <tr style=\"text-align: right;\">\n",
       "      <th></th>\n",
       "      <th>0</th>\n",
       "      <th>1</th>\n",
       "    </tr>\n",
       "  </thead>\n",
       "  <tbody>\n",
       "    <tr>\n",
       "      <th>Source</th>\n",
       "      <td>cluster_kmeans</td>\n",
       "      <td>Within</td>\n",
       "    </tr>\n",
       "    <tr>\n",
       "      <th>SS</th>\n",
       "      <td>479.901385</td>\n",
       "      <td>179.098615</td>\n",
       "    </tr>\n",
       "    <tr>\n",
       "      <th>DF</th>\n",
       "      <td>2</td>\n",
       "      <td>657</td>\n",
       "    </tr>\n",
       "    <tr>\n",
       "      <th>MS</th>\n",
       "      <td>239.950692</td>\n",
       "      <td>0.272601</td>\n",
       "    </tr>\n",
       "    <tr>\n",
       "      <th>F</th>\n",
       "      <td>880.227938</td>\n",
       "      <td>NaN</td>\n",
       "    </tr>\n",
       "    <tr>\n",
       "      <th>p-unc</th>\n",
       "      <td>0.0</td>\n",
       "      <td>NaN</td>\n",
       "    </tr>\n",
       "    <tr>\n",
       "      <th>np2</th>\n",
       "      <td>0.728227</td>\n",
       "      <td>NaN</td>\n",
       "    </tr>\n",
       "  </tbody>\n",
       "</table>\n",
       "</div>"
      ],
      "text/plain": [
       "                     0           1\n",
       "Source  cluster_kmeans      Within\n",
       "SS          479.901385  179.098615\n",
       "DF                   2         657\n",
       "MS          239.950692    0.272601\n",
       "F           880.227938         NaN\n",
       "p-unc              0.0         NaN\n",
       "np2           0.728227         NaN"
      ]
     },
     "execution_count": 35,
     "metadata": {},
     "output_type": "execute_result"
    }
   ],
   "source": [
    "# Interpretação do output:\n",
    "\n",
    "## cluster_kmeans MS: indica a variabilidade entre grupos\n",
    "## Within MS: indica a variabilidade dentro dos grupos\n",
    "## F: estatística de teste (cluster_kmeans MS / Within MS)\n",
    "## p-unc: p-valor da estatística F\n",
    "## se p-valor < 0.05: pelo menos um cluster apresenta média estatisticamente diferente dos demais\n",
    "\n",
    "# Avg_Credit_Limit\n",
    "pg.anova(dv='Avg_Credit_Limit', \n",
    "         between='cluster_kmeans', \n",
    "         data=cartao_pad,\n",
    "         detailed=True).T"
   ]
  },
  {
   "cell_type": "code",
   "execution_count": 36,
   "id": "9c5b1c73-3e8b-4fd0-8f5f-da005a885667",
   "metadata": {},
   "outputs": [
    {
     "data": {
      "text/html": [
       "<div>\n",
       "<style scoped>\n",
       "    .dataframe tbody tr th:only-of-type {\n",
       "        vertical-align: middle;\n",
       "    }\n",
       "\n",
       "    .dataframe tbody tr th {\n",
       "        vertical-align: top;\n",
       "    }\n",
       "\n",
       "    .dataframe thead th {\n",
       "        text-align: right;\n",
       "    }\n",
       "</style>\n",
       "<table border=\"1\" class=\"dataframe\">\n",
       "  <thead>\n",
       "    <tr style=\"text-align: right;\">\n",
       "      <th></th>\n",
       "      <th>0</th>\n",
       "      <th>1</th>\n",
       "    </tr>\n",
       "  </thead>\n",
       "  <tbody>\n",
       "    <tr>\n",
       "      <th>Source</th>\n",
       "      <td>cluster_kmeans</td>\n",
       "      <td>Within</td>\n",
       "    </tr>\n",
       "    <tr>\n",
       "      <th>SS</th>\n",
       "      <td>478.078715</td>\n",
       "      <td>180.921285</td>\n",
       "    </tr>\n",
       "    <tr>\n",
       "      <th>DF</th>\n",
       "      <td>2</td>\n",
       "      <td>657</td>\n",
       "    </tr>\n",
       "    <tr>\n",
       "      <th>MS</th>\n",
       "      <td>239.039358</td>\n",
       "      <td>0.275375</td>\n",
       "    </tr>\n",
       "    <tr>\n",
       "      <th>F</th>\n",
       "      <td>868.050755</td>\n",
       "      <td>NaN</td>\n",
       "    </tr>\n",
       "    <tr>\n",
       "      <th>p-unc</th>\n",
       "      <td>0.0</td>\n",
       "      <td>NaN</td>\n",
       "    </tr>\n",
       "    <tr>\n",
       "      <th>np2</th>\n",
       "      <td>0.725461</td>\n",
       "      <td>NaN</td>\n",
       "    </tr>\n",
       "  </tbody>\n",
       "</table>\n",
       "</div>"
      ],
      "text/plain": [
       "                     0           1\n",
       "Source  cluster_kmeans      Within\n",
       "SS          478.078715  180.921285\n",
       "DF                   2         657\n",
       "MS          239.039358    0.275375\n",
       "F           868.050755         NaN\n",
       "p-unc              0.0         NaN\n",
       "np2           0.725461         NaN"
      ]
     },
     "execution_count": 36,
     "metadata": {},
     "output_type": "execute_result"
    }
   ],
   "source": [
    "# Total_Credit_Cards\n",
    "pg.anova(dv='Total_Credit_Cards', \n",
    "         between='cluster_kmeans', \n",
    "         data=cartao_pad,\n",
    "         detailed=True).T"
   ]
  },
  {
   "cell_type": "code",
   "execution_count": 37,
   "id": "50361d0e-2959-4961-b3fd-5e074b910a7e",
   "metadata": {},
   "outputs": [
    {
     "data": {
      "text/html": [
       "<div>\n",
       "<style scoped>\n",
       "    .dataframe tbody tr th:only-of-type {\n",
       "        vertical-align: middle;\n",
       "    }\n",
       "\n",
       "    .dataframe tbody tr th {\n",
       "        vertical-align: top;\n",
       "    }\n",
       "\n",
       "    .dataframe thead th {\n",
       "        text-align: right;\n",
       "    }\n",
       "</style>\n",
       "<table border=\"1\" class=\"dataframe\">\n",
       "  <thead>\n",
       "    <tr style=\"text-align: right;\">\n",
       "      <th></th>\n",
       "      <th>0</th>\n",
       "      <th>1</th>\n",
       "    </tr>\n",
       "  </thead>\n",
       "  <tbody>\n",
       "    <tr>\n",
       "      <th>Source</th>\n",
       "      <td>cluster_kmeans</td>\n",
       "      <td>Within</td>\n",
       "    </tr>\n",
       "    <tr>\n",
       "      <th>SS</th>\n",
       "      <td>413.975651</td>\n",
       "      <td>245.024349</td>\n",
       "    </tr>\n",
       "    <tr>\n",
       "      <th>DF</th>\n",
       "      <td>2</td>\n",
       "      <td>657</td>\n",
       "    </tr>\n",
       "    <tr>\n",
       "      <th>MS</th>\n",
       "      <td>206.987826</td>\n",
       "      <td>0.372944</td>\n",
       "    </tr>\n",
       "    <tr>\n",
       "      <th>F</th>\n",
       "      <td>555.010154</td>\n",
       "      <td>NaN</td>\n",
       "    </tr>\n",
       "    <tr>\n",
       "      <th>p-unc</th>\n",
       "      <td>0.0</td>\n",
       "      <td>NaN</td>\n",
       "    </tr>\n",
       "    <tr>\n",
       "      <th>np2</th>\n",
       "      <td>0.628188</td>\n",
       "      <td>NaN</td>\n",
       "    </tr>\n",
       "  </tbody>\n",
       "</table>\n",
       "</div>"
      ],
      "text/plain": [
       "                     0           1\n",
       "Source  cluster_kmeans      Within\n",
       "SS          413.975651  245.024349\n",
       "DF                   2         657\n",
       "MS          206.987826    0.372944\n",
       "F           555.010154         NaN\n",
       "p-unc              0.0         NaN\n",
       "np2           0.628188         NaN"
      ]
     },
     "execution_count": 37,
     "metadata": {},
     "output_type": "execute_result"
    }
   ],
   "source": [
    "# Total_visits_bank\n",
    "pg.anova(dv='Total_visits_bank', \n",
    "         between='cluster_kmeans', \n",
    "         data=cartao_pad,\n",
    "         detailed=True).T"
   ]
  },
  {
   "cell_type": "code",
   "execution_count": 38,
   "id": "2fa5b48f-a18d-4c14-a9ab-25a6edaf7304",
   "metadata": {},
   "outputs": [
    {
     "data": {
      "text/html": [
       "<div>\n",
       "<style scoped>\n",
       "    .dataframe tbody tr th:only-of-type {\n",
       "        vertical-align: middle;\n",
       "    }\n",
       "\n",
       "    .dataframe tbody tr th {\n",
       "        vertical-align: top;\n",
       "    }\n",
       "\n",
       "    .dataframe thead th {\n",
       "        text-align: right;\n",
       "    }\n",
       "</style>\n",
       "<table border=\"1\" class=\"dataframe\">\n",
       "  <thead>\n",
       "    <tr style=\"text-align: right;\">\n",
       "      <th></th>\n",
       "      <th>0</th>\n",
       "      <th>1</th>\n",
       "    </tr>\n",
       "  </thead>\n",
       "  <tbody>\n",
       "    <tr>\n",
       "      <th>Source</th>\n",
       "      <td>cluster_kmeans</td>\n",
       "      <td>Within</td>\n",
       "    </tr>\n",
       "    <tr>\n",
       "      <th>SS</th>\n",
       "      <td>540.564886</td>\n",
       "      <td>118.435114</td>\n",
       "    </tr>\n",
       "    <tr>\n",
       "      <th>DF</th>\n",
       "      <td>2</td>\n",
       "      <td>657</td>\n",
       "    </tr>\n",
       "    <tr>\n",
       "      <th>MS</th>\n",
       "      <td>270.282443</td>\n",
       "      <td>0.180267</td>\n",
       "    </tr>\n",
       "    <tr>\n",
       "      <th>F</th>\n",
       "      <td>1499.348962</td>\n",
       "      <td>NaN</td>\n",
       "    </tr>\n",
       "    <tr>\n",
       "      <th>p-unc</th>\n",
       "      <td>0.0</td>\n",
       "      <td>NaN</td>\n",
       "    </tr>\n",
       "    <tr>\n",
       "      <th>np2</th>\n",
       "      <td>0.820281</td>\n",
       "      <td>NaN</td>\n",
       "    </tr>\n",
       "  </tbody>\n",
       "</table>\n",
       "</div>"
      ],
      "text/plain": [
       "                     0           1\n",
       "Source  cluster_kmeans      Within\n",
       "SS          540.564886  118.435114\n",
       "DF                   2         657\n",
       "MS          270.282443    0.180267\n",
       "F          1499.348962         NaN\n",
       "p-unc              0.0         NaN\n",
       "np2           0.820281         NaN"
      ]
     },
     "execution_count": 38,
     "metadata": {},
     "output_type": "execute_result"
    }
   ],
   "source": [
    "# Total_visits_online\n",
    "pg.anova(dv='Total_visits_online', \n",
    "         between='cluster_kmeans', \n",
    "         data=cartao_pad,\n",
    "         detailed=True).T"
   ]
  },
  {
   "cell_type": "markdown",
   "id": "e24c3640-43fb-482b-9959-10cd2dcbcd1b",
   "metadata": {},
   "source": [
    "#### Gráfico 3D dos clusters"
   ]
  },
  {
   "cell_type": "code",
   "execution_count": 39,
   "id": "83f78a05-f6e2-4568-85a0-fd04a168b0e4",
   "metadata": {},
   "outputs": [
    {
     "name": "stderr",
     "output_type": "stream",
     "text": [
      "C:\\Users\\Khomp\\USPesalqMBA\\Lib\\site-packages\\plotly\\express\\_core.py:1958: FutureWarning:\n",
      "\n",
      "The default of observed=False is deprecated and will be changed to True in a future version of pandas. Pass observed=False to retain current behavior or observed=True to adopt the future default and silence this warning.\n",
      "\n"
     ]
    }
   ],
   "source": [
    "# Perspectiva 1\n",
    "\n",
    "fig = px.scatter_3d(cartao_cluster, \n",
    "                    x='Avg_Credit_Limit', \n",
    "                    y='Total_Credit_Cards', \n",
    "                    z='Total_visits_online',\n",
    "                    color='cluster_kmeans')\n",
    "fig.show()"
   ]
  },
  {
   "cell_type": "code",
   "execution_count": 40,
   "id": "fa8240ee-8ede-4796-af72-06c62a09c157",
   "metadata": {},
   "outputs": [
    {
     "name": "stderr",
     "output_type": "stream",
     "text": [
      "C:\\Users\\Khomp\\USPesalqMBA\\Lib\\site-packages\\plotly\\express\\_core.py:1958: FutureWarning:\n",
      "\n",
      "The default of observed=False is deprecated and will be changed to True in a future version of pandas. Pass observed=False to retain current behavior or observed=True to adopt the future default and silence this warning.\n",
      "\n"
     ]
    }
   ],
   "source": [
    "# Perspectiva 2\n",
    "\n",
    "fig = px.scatter_3d(cartao_cluster, \n",
    "                    x='Avg_Credit_Limit', \n",
    "                    y='Total_Credit_Cards', \n",
    "                    z='Total_visits_bank',\n",
    "                    color='cluster_kmeans')\n",
    "fig.show()"
   ]
  },
  {
   "cell_type": "code",
   "execution_count": 41,
   "id": "f1a1f892-2f7a-4f3e-af37-33cb5bf63241",
   "metadata": {},
   "outputs": [
    {
     "name": "stderr",
     "output_type": "stream",
     "text": [
      "C:\\Users\\Khomp\\USPesalqMBA\\Lib\\site-packages\\plotly\\express\\_core.py:1958: FutureWarning:\n",
      "\n",
      "The default of observed=False is deprecated and will be changed to True in a future version of pandas. Pass observed=False to retain current behavior or observed=True to adopt the future default and silence this warning.\n",
      "\n"
     ]
    }
   ],
   "source": [
    "# Perspectiva 3\n",
    "fig = px.scatter_3d(cartao_cluster, \n",
    "                    x='Avg_Credit_Limit', \n",
    "                    y='Total_Credit_Cards', \n",
    "                    z='Total_calls_made',\n",
    "                    color='cluster_kmeans')\n",
    "fig.show()"
   ]
  },
  {
   "cell_type": "markdown",
   "id": "48850806-8c49-4069-9e62-339dd3acd2f0",
   "metadata": {},
   "source": [
    "#### Identificação das características dos clusters"
   ]
  },
  {
   "cell_type": "code",
   "execution_count": 42,
   "id": "146ac6a5-d1d9-4b76-9145-794f933a05f5",
   "metadata": {},
   "outputs": [
    {
     "name": "stderr",
     "output_type": "stream",
     "text": [
      "C:\\Users\\Khomp\\AppData\\Local\\Temp\\ipykernel_13396\\2841431459.py:3: FutureWarning:\n",
      "\n",
      "The default of observed=False is deprecated and will be changed to True in a future version of pandas. Pass observed=False to retain current behavior or observed=True to adopt the future default and silence this warning.\n",
      "\n"
     ]
    }
   ],
   "source": [
    "# Agrupando o banco de dados\n",
    "\n",
    "cartao_grupo = cartao_cluster.groupby(by=['cluster_kmeans'])\n",
    "\n",
    "# Estatísticas descritivas por grupo\n",
    "\n",
    "tab_desc_grupo = cartao_grupo.describe().T"
   ]
  },
  {
   "cell_type": "code",
   "execution_count": 43,
   "id": "00979b1e-8444-4933-b97e-9565dd3df860",
   "metadata": {},
   "outputs": [
    {
     "name": "stdout",
     "output_type": "stream",
     "text": [
      "cluster_kmeans                        0              1              2\n",
      "Avg_Credit_Limit    count    224.000000      50.000000     386.000000\n",
      "                    mean   12174.107143  141040.000000   33782.383420\n",
      "                    std     5249.048524   34457.877272   22169.460696\n",
      "                    min     3000.000000   84000.000000    5000.000000\n",
      "                    25%     8000.000000  108750.000000   13000.000000\n",
      "                    50%    12000.000000  145500.000000   31000.000000\n",
      "                    75%    16000.000000  170000.000000   52000.000000\n",
      "                    max    50000.000000  200000.000000  100000.000000\n",
      "Total_Credit_Cards  count    224.000000      50.000000     386.000000\n",
      "                    mean       2.410714       8.740000       5.515544\n",
      "                    std        1.100783       1.274715       1.140069\n",
      "                    min        1.000000       5.000000       2.000000\n",
      "                    25%        1.000000       8.000000       4.000000\n",
      "                    50%        2.000000       9.000000       6.000000\n",
      "                    75%        3.000000      10.000000       6.000000\n",
      "                    max        4.000000      10.000000       7.000000\n",
      "Total_visits_bank   count    224.000000      50.000000     386.000000\n",
      "                    mean       0.933036       0.600000       3.489637\n",
      "                    std        0.803567       0.494872       1.135563\n",
      "                    min        0.000000       0.000000       1.000000\n",
      "                    25%        0.000000       0.000000       3.000000\n",
      "                    50%        1.000000       1.000000       3.000000\n",
      "                    75%        2.000000       1.000000       5.000000\n",
      "                    max        2.000000       1.000000       5.000000\n",
      "Total_visits_online count    224.000000      50.000000     386.000000\n",
      "                    mean       3.553571      10.900000       0.981865\n",
      "                    std        1.218978       2.880264       0.857167\n",
      "                    min        1.000000       6.000000       0.000000\n",
      "                    25%        2.000000       8.000000       0.000000\n",
      "                    50%        4.000000      11.000000       1.000000\n",
      "                    75%        4.000000      13.000000       2.000000\n",
      "                    max       10.000000      15.000000       3.000000\n",
      "Total_calls_made    count    224.000000      50.000000     386.000000\n",
      "                    mean       6.870536       1.080000       2.000000\n",
      "                    std        1.990161       0.876915       1.430648\n",
      "                    min        1.000000       0.000000       0.000000\n",
      "                    25%        5.000000       0.000000       1.000000\n",
      "                    50%        7.000000       1.000000       2.000000\n",
      "                    75%        9.000000       2.000000       3.000000\n",
      "                    max       10.000000       3.000000       4.000000\n"
     ]
    }
   ],
   "source": [
    "tab_desc_grupo = cartao_grupo.describe().T\n",
    "print(tab_desc_grupo)"
   ]
  },
  {
   "cell_type": "markdown",
   "id": "d865c16e-de01-496b-bed6-18b5455ea6d7",
   "metadata": {},
   "source": [
    "# FIM"
   ]
  }
 ],
 "metadata": {
  "kernelspec": {
   "display_name": "Python 3 (ipykernel)",
   "language": "python",
   "name": "python3"
  },
  "language_info": {
   "codemirror_mode": {
    "name": "ipython",
    "version": 3
   },
   "file_extension": ".py",
   "mimetype": "text/x-python",
   "name": "python",
   "nbconvert_exporter": "python",
   "pygments_lexer": "ipython3",
   "version": "3.11.7"
  }
 },
 "nbformat": 4,
 "nbformat_minor": 5
}
