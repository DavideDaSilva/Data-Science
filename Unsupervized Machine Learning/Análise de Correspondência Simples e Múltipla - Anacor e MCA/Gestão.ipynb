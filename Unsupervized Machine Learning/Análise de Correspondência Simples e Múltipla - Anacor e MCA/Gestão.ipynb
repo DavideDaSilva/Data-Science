{
 "cells": [
  {
   "cell_type": "markdown",
   "id": "75af1a22-80b0-4077-9a23-df68ae2fcc73",
   "metadata": {},
   "source": [
    "# Análise de Correspondência Simples (ANACOR)"
   ]
  },
  {
   "cell_type": "markdown",
   "id": "34392f91-7ae1-47e9-898c-436938840fcc",
   "metadata": {},
   "source": [
    "## GESTÃO\n",
    "### Ao longo de 3 anos, foi aplicado um questionário com as seguintes afirmações: O quão satisfeito você está com a gestão do atual prefeito?\n",
    "#### - As respostas foram registradas em uma escala Likert de 5 pontos.\n",
    "\n",
    "#### O objetivo: há alguma variação na avaliação do prefeito ao longo dos anos?"
   ]
  },
  {
   "cell_type": "markdown",
   "id": "e587b59a-5c81-4fc7-8747-aabfff523730",
   "metadata": {},
   "source": [
    "##### Instalando os pacotes"
   ]
  },
  {
   "cell_type": "code",
   "execution_count": 1,
   "id": "4e2c9529-1530-44de-830f-4df1ed65b219",
   "metadata": {},
   "outputs": [
    {
     "name": "stdout",
     "output_type": "stream",
     "text": [
      "Requirement already satisfied: pandas in c:\\users\\khomp\\uspesalqmba\\lib\\site-packages (2.1.4)\n",
      "Requirement already satisfied: numpy<2,>=1.23.2 in c:\\users\\khomp\\uspesalqmba\\lib\\site-packages (from pandas) (1.26.4)\n",
      "Requirement already satisfied: python-dateutil>=2.8.2 in c:\\users\\khomp\\uspesalqmba\\lib\\site-packages (from pandas) (2.8.2)\n",
      "Requirement already satisfied: pytz>=2020.1 in c:\\users\\khomp\\uspesalqmba\\lib\\site-packages (from pandas) (2023.3.post1)\n",
      "Requirement already satisfied: tzdata>=2022.1 in c:\\users\\khomp\\uspesalqmba\\lib\\site-packages (from pandas) (2023.3)\n",
      "Requirement already satisfied: six>=1.5 in c:\\users\\khomp\\uspesalqmba\\lib\\site-packages (from python-dateutil>=2.8.2->pandas) (1.16.0)\n",
      "Requirement already satisfied: numpy in c:\\users\\khomp\\uspesalqmba\\lib\\site-packages (1.26.4)\n",
      "Requirement already satisfied: scipy in c:\\users\\khomp\\uspesalqmba\\lib\\site-packages (1.11.4)\n",
      "Requirement already satisfied: numpy<1.28.0,>=1.21.6 in c:\\users\\khomp\\uspesalqmba\\lib\\site-packages (from scipy) (1.26.4)\n",
      "Requirement already satisfied: plotly in c:\\users\\khomp\\uspesalqmba\\lib\\site-packages (5.9.0)\n",
      "Requirement already satisfied: tenacity>=6.2.0 in c:\\users\\khomp\\uspesalqmba\\lib\\site-packages (from plotly) (8.2.2)\n",
      "Requirement already satisfied: seaborn in c:\\users\\khomp\\uspesalqmba\\lib\\site-packages (0.13.2)\n",
      "Requirement already satisfied: numpy!=1.24.0,>=1.20 in c:\\users\\khomp\\uspesalqmba\\lib\\site-packages (from seaborn) (1.26.4)\n",
      "Requirement already satisfied: pandas>=1.2 in c:\\users\\khomp\\uspesalqmba\\lib\\site-packages (from seaborn) (2.1.4)\n",
      "Requirement already satisfied: matplotlib!=3.6.1,>=3.4 in c:\\users\\khomp\\uspesalqmba\\lib\\site-packages (from seaborn) (3.8.0)\n",
      "Requirement already satisfied: contourpy>=1.0.1 in c:\\users\\khomp\\uspesalqmba\\lib\\site-packages (from matplotlib!=3.6.1,>=3.4->seaborn) (1.2.0)\n",
      "Requirement already satisfied: cycler>=0.10 in c:\\users\\khomp\\uspesalqmba\\lib\\site-packages (from matplotlib!=3.6.1,>=3.4->seaborn) (0.11.0)\n",
      "Requirement already satisfied: fonttools>=4.22.0 in c:\\users\\khomp\\uspesalqmba\\lib\\site-packages (from matplotlib!=3.6.1,>=3.4->seaborn) (4.25.0)\n",
      "Requirement already satisfied: kiwisolver>=1.0.1 in c:\\users\\khomp\\uspesalqmba\\lib\\site-packages (from matplotlib!=3.6.1,>=3.4->seaborn) (1.4.4)\n",
      "Requirement already satisfied: packaging>=20.0 in c:\\users\\khomp\\uspesalqmba\\lib\\site-packages (from matplotlib!=3.6.1,>=3.4->seaborn) (23.1)\n",
      "Requirement already satisfied: pillow>=6.2.0 in c:\\users\\khomp\\uspesalqmba\\lib\\site-packages (from matplotlib!=3.6.1,>=3.4->seaborn) (10.2.0)\n",
      "Requirement already satisfied: pyparsing>=2.3.1 in c:\\users\\khomp\\uspesalqmba\\lib\\site-packages (from matplotlib!=3.6.1,>=3.4->seaborn) (3.0.9)\n",
      "Requirement already satisfied: python-dateutil>=2.7 in c:\\users\\khomp\\uspesalqmba\\lib\\site-packages (from matplotlib!=3.6.1,>=3.4->seaborn) (2.8.2)\n",
      "Requirement already satisfied: pytz>=2020.1 in c:\\users\\khomp\\uspesalqmba\\lib\\site-packages (from pandas>=1.2->seaborn) (2023.3.post1)\n",
      "Requirement already satisfied: tzdata>=2022.1 in c:\\users\\khomp\\uspesalqmba\\lib\\site-packages (from pandas>=1.2->seaborn) (2023.3)\n",
      "Requirement already satisfied: six>=1.5 in c:\\users\\khomp\\uspesalqmba\\lib\\site-packages (from python-dateutil>=2.7->matplotlib!=3.6.1,>=3.4->seaborn) (1.16.0)\n",
      "Requirement already satisfied: matplotlib in c:\\users\\khomp\\uspesalqmba\\lib\\site-packages (3.8.0)\n",
      "Requirement already satisfied: contourpy>=1.0.1 in c:\\users\\khomp\\uspesalqmba\\lib\\site-packages (from matplotlib) (1.2.0)\n",
      "Requirement already satisfied: cycler>=0.10 in c:\\users\\khomp\\uspesalqmba\\lib\\site-packages (from matplotlib) (0.11.0)\n",
      "Requirement already satisfied: fonttools>=4.22.0 in c:\\users\\khomp\\uspesalqmba\\lib\\site-packages (from matplotlib) (4.25.0)\n",
      "Requirement already satisfied: kiwisolver>=1.0.1 in c:\\users\\khomp\\uspesalqmba\\lib\\site-packages (from matplotlib) (1.4.4)\n",
      "Requirement already satisfied: numpy<2,>=1.21 in c:\\users\\khomp\\uspesalqmba\\lib\\site-packages (from matplotlib) (1.26.4)\n",
      "Requirement already satisfied: packaging>=20.0 in c:\\users\\khomp\\uspesalqmba\\lib\\site-packages (from matplotlib) (23.1)\n",
      "Requirement already satisfied: pillow>=6.2.0 in c:\\users\\khomp\\uspesalqmba\\lib\\site-packages (from matplotlib) (10.2.0)\n",
      "Requirement already satisfied: pyparsing>=2.3.1 in c:\\users\\khomp\\uspesalqmba\\lib\\site-packages (from matplotlib) (3.0.9)\n",
      "Requirement already satisfied: python-dateutil>=2.7 in c:\\users\\khomp\\uspesalqmba\\lib\\site-packages (from matplotlib) (2.8.2)\n",
      "Requirement already satisfied: six>=1.5 in c:\\users\\khomp\\uspesalqmba\\lib\\site-packages (from python-dateutil>=2.7->matplotlib) (1.16.0)\n",
      "Requirement already satisfied: statsmodels in c:\\users\\khomp\\uspesalqmba\\lib\\site-packages (0.14.0)\n",
      "Requirement already satisfied: numpy>=1.18 in c:\\users\\khomp\\uspesalqmba\\lib\\site-packages (from statsmodels) (1.26.4)\n",
      "Requirement already satisfied: scipy!=1.9.2,>=1.4 in c:\\users\\khomp\\uspesalqmba\\lib\\site-packages (from statsmodels) (1.11.4)\n",
      "Requirement already satisfied: pandas>=1.0 in c:\\users\\khomp\\uspesalqmba\\lib\\site-packages (from statsmodels) (2.1.4)\n",
      "Requirement already satisfied: patsy>=0.5.2 in c:\\users\\khomp\\uspesalqmba\\lib\\site-packages (from statsmodels) (0.5.3)\n",
      "Requirement already satisfied: packaging>=21.3 in c:\\users\\khomp\\uspesalqmba\\lib\\site-packages (from statsmodels) (23.1)\n",
      "Requirement already satisfied: python-dateutil>=2.8.2 in c:\\users\\khomp\\uspesalqmba\\lib\\site-packages (from pandas>=1.0->statsmodels) (2.8.2)\n",
      "Requirement already satisfied: pytz>=2020.1 in c:\\users\\khomp\\uspesalqmba\\lib\\site-packages (from pandas>=1.0->statsmodels) (2023.3.post1)\n",
      "Requirement already satisfied: tzdata>=2022.1 in c:\\users\\khomp\\uspesalqmba\\lib\\site-packages (from pandas>=1.0->statsmodels) (2023.3)\n",
      "Requirement already satisfied: six in c:\\users\\khomp\\uspesalqmba\\lib\\site-packages (from patsy>=0.5.2->statsmodels) (1.16.0)\n",
      "Requirement already satisfied: prince in c:\\users\\khomp\\uspesalqmba\\lib\\site-packages (0.13.0)\n",
      "Requirement already satisfied: altair<6.0.0,>=4.2.2 in c:\\users\\khomp\\uspesalqmba\\lib\\site-packages (from prince) (5.0.1)\n",
      "Requirement already satisfied: pandas<3.0.0,>=1.4.1 in c:\\users\\khomp\\uspesalqmba\\lib\\site-packages (from prince) (2.1.4)\n",
      "Requirement already satisfied: scikit-learn<2.0.0,>=1.0.2 in c:\\users\\khomp\\uspesalqmba\\lib\\site-packages (from prince) (1.2.2)\n",
      "Requirement already satisfied: jinja2 in c:\\users\\khomp\\uspesalqmba\\lib\\site-packages (from altair<6.0.0,>=4.2.2->prince) (3.1.3)\n",
      "Requirement already satisfied: jsonschema>=3.0 in c:\\users\\khomp\\uspesalqmba\\lib\\site-packages (from altair<6.0.0,>=4.2.2->prince) (4.19.2)\n",
      "Requirement already satisfied: numpy in c:\\users\\khomp\\uspesalqmba\\lib\\site-packages (from altair<6.0.0,>=4.2.2->prince) (1.26.4)\n",
      "Requirement already satisfied: toolz in c:\\users\\khomp\\uspesalqmba\\lib\\site-packages (from altair<6.0.0,>=4.2.2->prince) (0.12.0)\n",
      "Requirement already satisfied: python-dateutil>=2.8.2 in c:\\users\\khomp\\uspesalqmba\\lib\\site-packages (from pandas<3.0.0,>=1.4.1->prince) (2.8.2)\n",
      "Requirement already satisfied: pytz>=2020.1 in c:\\users\\khomp\\uspesalqmba\\lib\\site-packages (from pandas<3.0.0,>=1.4.1->prince) (2023.3.post1)\n",
      "Requirement already satisfied: tzdata>=2022.1 in c:\\users\\khomp\\uspesalqmba\\lib\\site-packages (from pandas<3.0.0,>=1.4.1->prince) (2023.3)\n",
      "Requirement already satisfied: scipy>=1.3.2 in c:\\users\\khomp\\uspesalqmba\\lib\\site-packages (from scikit-learn<2.0.0,>=1.0.2->prince) (1.11.4)\n",
      "Requirement already satisfied: joblib>=1.1.1 in c:\\users\\khomp\\uspesalqmba\\lib\\site-packages (from scikit-learn<2.0.0,>=1.0.2->prince) (1.2.0)\n",
      "Requirement already satisfied: threadpoolctl>=2.0.0 in c:\\users\\khomp\\uspesalqmba\\lib\\site-packages (from scikit-learn<2.0.0,>=1.0.2->prince) (2.2.0)\n",
      "Requirement already satisfied: attrs>=22.2.0 in c:\\users\\khomp\\uspesalqmba\\lib\\site-packages (from jsonschema>=3.0->altair<6.0.0,>=4.2.2->prince) (23.1.0)\n",
      "Requirement already satisfied: jsonschema-specifications>=2023.03.6 in c:\\users\\khomp\\uspesalqmba\\lib\\site-packages (from jsonschema>=3.0->altair<6.0.0,>=4.2.2->prince) (2023.7.1)\n",
      "Requirement already satisfied: referencing>=0.28.4 in c:\\users\\khomp\\uspesalqmba\\lib\\site-packages (from jsonschema>=3.0->altair<6.0.0,>=4.2.2->prince) (0.30.2)\n",
      "Requirement already satisfied: rpds-py>=0.7.1 in c:\\users\\khomp\\uspesalqmba\\lib\\site-packages (from jsonschema>=3.0->altair<6.0.0,>=4.2.2->prince) (0.10.6)\n",
      "Requirement already satisfied: six>=1.5 in c:\\users\\khomp\\uspesalqmba\\lib\\site-packages (from python-dateutil>=2.8.2->pandas<3.0.0,>=1.4.1->prince) (1.16.0)\n",
      "Requirement already satisfied: MarkupSafe>=2.0 in c:\\users\\khomp\\uspesalqmba\\lib\\site-packages (from jinja2->altair<6.0.0,>=4.2.2->prince) (2.1.3)\n"
     ]
    }
   ],
   "source": [
    "! pip install pandas\n",
    "! pip install numpy\n",
    "! pip install scipy\n",
    "! pip install plotly\n",
    "! pip install seaborn\n",
    "! pip install matplotlib\n",
    "! pip install statsmodels\n",
    "! pip install prince"
   ]
  },
  {
   "cell_type": "markdown",
   "id": "981fa93d-6c18-428c-9d3b-c05da8777f71",
   "metadata": {},
   "source": [
    "#### Importando os pacotes necessários"
   ]
  },
  {
   "cell_type": "code",
   "execution_count": 2,
   "id": "c0e42bb8-aa7d-4bb7-9c2b-36168f1f1003",
   "metadata": {},
   "outputs": [],
   "source": [
    "import pandas as pd\n",
    "import numpy as np\n",
    "from scipy.stats import chi2_contingency\n",
    "import statsmodels.api as sm\n",
    "import seaborn as sns\n",
    "import matplotlib.pyplot as plt\n",
    "import prince\n",
    "import plotly.io as pio\n",
    "pio.renderers.default = 'browser'\n",
    "import plotly.graph_objects as go"
   ]
  },
  {
   "cell_type": "markdown",
   "id": "d11d1216-9ef7-4e8d-9ede-63308a934c9f",
   "metadata": {},
   "source": [
    "#### Análise de Correspondência Simples (ANACOR)"
   ]
  },
  {
   "cell_type": "code",
   "execution_count": 4,
   "id": "44fe8b9e-dfcc-46b3-b34e-d20c0ad1ca3d",
   "metadata": {},
   "outputs": [],
   "source": [
    "# Importando o banco de dados\n",
    "\n",
    "gestao = pd.read_excel(\"gestao_municipal.xlsx\")\n",
    "# Fonte: Fávero e Belfiore (2024, Capítulo 11)"
   ]
  },
  {
   "cell_type": "markdown",
   "id": "35319f10-b332-49e8-bfc4-577cedecdaf3",
   "metadata": {},
   "source": [
    "#### Informações descritivas sobre as variáveis"
   ]
  },
  {
   "cell_type": "code",
   "execution_count": 5,
   "id": "b825d998-59ee-4689-a2c1-9e1e535c0d02",
   "metadata": {},
   "outputs": [
    {
     "name": "stdout",
     "output_type": "stream",
     "text": [
      "avaliacao\n",
      "Nem Concordo, Nem Discordo    2970\n",
      "Concordo Parcialmente         2062\n",
      "Discordo Parcialmente         2004\n",
      "Discordo Totalmente            998\n",
      "Concordo Totalmente            966\n",
      "Name: count, dtype: int64\n",
      "ano\n",
      "20X1    3000\n",
      "20X2    3000\n",
      "20X3    3000\n",
      "Name: count, dtype: int64\n"
     ]
    }
   ],
   "source": [
    "print(gestao['avaliacao'].value_counts())\n",
    "print(gestao['ano'].value_counts())"
   ]
  },
  {
   "cell_type": "markdown",
   "id": "852c34d4-46b8-44e9-91f7-346000686178",
   "metadata": {},
   "source": [
    "#### Criando a tabela de contingência"
   ]
  },
  {
   "cell_type": "code",
   "execution_count": 6,
   "id": "1a221ce9-5dcd-48b2-9522-4f17f4391b96",
   "metadata": {},
   "outputs": [
    {
     "name": "stdout",
     "output_type": "stream",
     "text": [
      "ano                         20X1  20X2  20X3\n",
      "avaliacao                                   \n",
      "Concordo Parcialmente       1066   996     0\n",
      "Concordo Totalmente          966     0     0\n",
      "Discordo Parcialmente          1   998  1005\n",
      "Discordo Totalmente            0     1   997\n",
      "Nem Concordo, Nem Discordo   967  1005   998\n"
     ]
    }
   ],
   "source": [
    "tabela = pd.crosstab(gestao[\"avaliacao\"], gestao[\"ano\"])\n",
    "\n",
    "print(tabela)\n",
    "\n",
    "# Nota: sempre manter o nome deste objeto como \"tabela\" para uso posterior!"
   ]
  },
  {
   "cell_type": "markdown",
   "id": "e2316bd7-c93b-4f24-be21-57d07dd9593a",
   "metadata": {},
   "source": [
    "#### Analisando a significância estatística da associação (teste qui²)"
   ]
  },
  {
   "cell_type": "code",
   "execution_count": 7,
   "id": "52ab63a8-c496-45f8-9fe2-e4ffef60682c",
   "metadata": {},
   "outputs": [
    {
     "name": "stdout",
     "output_type": "stream",
     "text": [
      "estatística qui²: 5956.44\n",
      "p-valor da estatística: 0.0\n",
      "graus de liberdade: 8\n"
     ]
    }
   ],
   "source": [
    "teste_qui2 = chi2_contingency(tabela)\n",
    "\n",
    "print(f\"estatística qui²: {round(teste_qui2[0], 2)}\")\n",
    "print(f\"p-valor da estatística: {round(teste_qui2[1], 4)}\")\n",
    "print(f\"graus de liberdade: {teste_qui2[2]}\")"
   ]
  },
  {
   "cell_type": "markdown",
   "id": "e02e2d31-f363-4bdb-9bc1-9f10a81405cf",
   "metadata": {},
   "source": [
    "#### Mapa de calor dos resíduos padronizados ajustados"
   ]
  },
  {
   "cell_type": "code",
   "execution_count": 9,
   "id": "3bbe0aef-8372-45dc-83a4-af84e8809ccd",
   "metadata": {},
   "outputs": [],
   "source": [
    "# Tabela de contingência\n",
    "\n",
    "tab_cont = sm.stats.Table(tabela)\n",
    "\n",
    "# Gráfico dos resíduos padronizados ajustados\n",
    "\n",
    "fig = go.Figure()\n",
    "\n",
    "maxz = np.max(tab_cont.standardized_resids)+0.1\n",
    "minz = np.min(tab_cont.standardized_resids)-0.1\n",
    "\n",
    "colorscale = ['lightgreen' if i>1.96 else '#FAF9F6' for i in np.arange(minz,maxz,0.01)]\n",
    "\n",
    "fig.add_trace(\n",
    "    go.Heatmap(\n",
    "        x = tab_cont.standardized_resids.columns,\n",
    "        y = tab_cont.standardized_resids.index,\n",
    "        z = np.array(tab_cont.standardized_resids),\n",
    "        text=tab_cont.standardized_resids.values,\n",
    "        texttemplate='%{text:.2f}',\n",
    "        showscale=False,\n",
    "        colorscale=colorscale))\n",
    "\n",
    "fig.update_layout(\n",
    "    title='Resíduos Padronizados Ajustados',\n",
    "    height = 600,\n",
    "    width = 600)\n",
    "\n",
    "fig.show()\n"
   ]
  },
  {
   "cell_type": "markdown",
   "id": "2d00bf99-9f11-42af-947a-3b50b0f55999",
   "metadata": {},
   "source": [
    "#### Elaborando a ANACOR"
   ]
  },
  {
   "cell_type": "code",
   "execution_count": 10,
   "id": "26d431a6-b793-4054-9e42-43f2f9ca9be3",
   "metadata": {},
   "outputs": [],
   "source": [
    "# Na função, o input é a tabela de contingência criada antes!\n",
    "\n",
    "ca = prince.CA().fit(tabela)"
   ]
  },
  {
   "cell_type": "markdown",
   "id": "38a1ae21-22b3-4e77-a813-dce7579b38e0",
   "metadata": {},
   "source": [
    "#### Obtendo os eigenvalues"
   ]
  },
  {
   "cell_type": "code",
   "execution_count": 11,
   "id": "020e69bf-866f-4c22-9f3d-5bf5b675cb28",
   "metadata": {},
   "outputs": [
    {
     "name": "stdout",
     "output_type": "stream",
     "text": [
      "          eigenvalue % of variance % of variance (cumulative)\n",
      "component                                                    \n",
      "0              0.503        75.96%                     75.96%\n",
      "1              0.159        24.04%                    100.00%\n"
     ]
    }
   ],
   "source": [
    "tabela_autovalores = ca.eigenvalues_summary\n",
    "\n",
    "print(tabela_autovalores)\n",
    "\n",
    "# São gerados 'm' autovalores: m = mín(I-1,J-1)"
   ]
  },
  {
   "cell_type": "markdown",
   "id": "5b8fde9b-f065-4550-ac3e-30fe6d999e39",
   "metadata": {},
   "source": [
    "#### Obtendo a inércia principal total"
   ]
  },
  {
   "cell_type": "code",
   "execution_count": 13,
   "id": "2346f5fa-8921-408b-a627-b78ddd362a39",
   "metadata": {},
   "outputs": [
    {
     "name": "stdout",
     "output_type": "stream",
     "text": [
      "0.6618261885878851\n"
     ]
    }
   ],
   "source": [
    "# Inércia principal total: É a soma dos eigenvalues (também é a divisão: estat. qui² / N)\n",
    "# Quanto maior a inércia principal total, maior é a associação entre categorias\n",
    "\n",
    "print(ca.total_inertia_)"
   ]
  },
  {
   "cell_type": "markdown",
   "id": "918d3852-d97a-4949-aa9d-1a98e657359e",
   "metadata": {},
   "source": [
    "#### Obtendo as coordenadas do mapa perceptual"
   ]
  },
  {
   "cell_type": "code",
   "execution_count": 14,
   "id": "ef59d822-e69a-4887-b02a-ffcb302a2e76",
   "metadata": {},
   "outputs": [
    {
     "name": "stdout",
     "output_type": "stream",
     "text": [
      "                                   0         1\n",
      "avaliacao                                     \n",
      "Concordo Parcialmente      -0.634071 -0.315726\n",
      "Concordo Totalmente        -1.222708  0.710623\n",
      "Discordo Parcialmente       0.612588 -0.351081\n",
      "Discordo Totalmente         1.225539  0.701462\n",
      "Nem Concordo, Nem Discordo  0.012753 -0.010750\n",
      "             0         1\n",
      "ano                     \n",
      "20X1 -0.866950  0.283437\n",
      "20X2 -0.002882 -0.564066\n",
      "20X3  0.869832  0.280629\n"
     ]
    }
   ],
   "source": [
    "# Coordenadas da variável em linha\n",
    "print(ca.row_coordinates(tabela))\n",
    "\n",
    "# Coordenadas da variável em coluna\n",
    "print(ca.column_coordinates(tabela))"
   ]
  },
  {
   "cell_type": "markdown",
   "id": "ad5784da-908b-4538-9e56-0d81d2808990",
   "metadata": {},
   "source": [
    "#### Plotando o mapa percentual da Anacor"
   ]
  },
  {
   "cell_type": "code",
   "execution_count": 15,
   "id": "be0b017c-71d6-4df2-96b7-f0f417eaf517",
   "metadata": {},
   "outputs": [
    {
     "data": {
      "image/png": "[encoded data removed]",
      "text/plain": [
       "<Figure size 640x480 with 1 Axes>"
      ]
     },
     "metadata": {},
     "output_type": "display_data"
    }
   ],
   "source": [
    "chart_df_row = pd.DataFrame({'var_row': tabela.index,\n",
    "                             'x_row':ca.row_coordinates(tabela)[0].values,\n",
    "                             'y_row': ca.row_coordinates(tabela)[1].values})\n",
    "\n",
    "chart_df_col = pd.DataFrame({'var_col': tabela.columns,\n",
    "                             'x_col':ca.column_coordinates(tabela)[0].values,\n",
    "                             'y_col': ca.column_coordinates(tabela)[1].values})\n",
    "\n",
    "def label_point(x, y, val, ax):\n",
    "    a = pd.concat({'x': x, 'y': y, 'val': val}, axis=1)\n",
    "    for i, point in a.iterrows():\n",
    "        ax.text(point['x'] + 0.03, point['y'] - 0.02, point['val'], fontsize=6)\n",
    "\n",
    "label_point(x = chart_df_col['x_col'],\n",
    "            y = chart_df_col['y_col'],\n",
    "            val = chart_df_col['var_col'],\n",
    "            ax = plt.gca())\n",
    "\n",
    "label_point(x = chart_df_row['x_row'],\n",
    "            y = chart_df_row['y_row'],\n",
    "            val = chart_df_row['var_row'],\n",
    "            ax = plt.gca()) \n",
    "\n",
    "sns.scatterplot(data=chart_df_row, x='x_row', y='y_row', s=20)\n",
    "sns.scatterplot(data=chart_df_col, x='x_col', y='y_col', s=20)\n",
    "sns.despine(top=True, right=True, left=False, bottom=False)\n",
    "plt.axhline(y=0, color='lightgrey', ls='--', linewidth=0.8)\n",
    "plt.axvline(x=0, color='lightgrey', ls='--', linewidth=0.8)\n",
    "plt.tick_params(size=2, labelsize=6)\n",
    "plt.title(\"Mapa Perceptual - Anacor\", fontsize=12)\n",
    "plt.xlabel(f\"Dim. 1: {tabela_autovalores.iloc[0,1]} da inércia\", fontsize=8)\n",
    "plt.ylabel(f\"Dim. 2: {tabela_autovalores.iloc[1,1]} da inércia\", fontsize=8)\n",
    "plt.show()"
   ]
  },
  {
   "cell_type": "markdown",
   "id": "8491b332-c748-4734-9a8b-26306f3f8a78",
   "metadata": {},
   "source": [
    "#### Obtendo as coordenadas das observações"
   ]
  },
  {
   "cell_type": "code",
   "execution_count": 17,
   "id": "76c5727d-94e0-4d13-9fd2-663e06ba75c7",
   "metadata": {},
   "outputs": [],
   "source": [
    "# Identificando as variáveis em linha e em coluna\n",
    "coord_obs = gestao.rename(columns={'avaliacao':'var_row',\n",
    "                                   'ano':'var_col'})"
   ]
  },
  {
   "cell_type": "code",
   "execution_count": 18,
   "id": "9dab13c5-d9bf-4ffb-b6b9-5b3e237e8504",
   "metadata": {},
   "outputs": [],
   "source": [
    "# Unindo as coordenadas das categorias ao DataFrame\n",
    "coord_obs = pd.merge(coord_obs, chart_df_row, how='left', on='var_row')\n",
    "coord_obs = pd.merge(coord_obs, chart_df_col, how='left', on='var_col')\n"
   ]
  },
  {
   "cell_type": "code",
   "execution_count": 19,
   "id": "ced7c616-b09c-49c1-bdeb-812a77ce69df",
   "metadata": {},
   "outputs": [
    {
     "name": "stdout",
     "output_type": "stream",
     "text": [
      "                         var_row var_col     x_row     y_row     x_col  \\\n",
      "0            Concordo Totalmente    20X1 -1.222708  0.710623 -0.866950   \n",
      "1            Concordo Totalmente    20X1 -1.222708  0.710623 -0.866950   \n",
      "2            Concordo Totalmente    20X1 -1.222708  0.710623 -0.866950   \n",
      "3          Concordo Parcialmente    20X1 -0.634071 -0.315726 -0.866950   \n",
      "4            Concordo Totalmente    20X1 -1.222708  0.710623 -0.866950   \n",
      "...                          ...     ...       ...       ...       ...   \n",
      "8995         Discordo Totalmente    20X3  1.225539  0.701462  0.869832   \n",
      "8996       Discordo Parcialmente    20X3  0.612588 -0.351081  0.869832   \n",
      "8997       Discordo Parcialmente    20X3  0.612588 -0.351081  0.869832   \n",
      "8998       Discordo Parcialmente    20X3  0.612588 -0.351081  0.869832   \n",
      "8999  Nem Concordo, Nem Discordo    20X3  0.012753 -0.010750  0.869832   \n",
      "\n",
      "         y_col     x_obs     y_obs  \n",
      "0     0.283437 -1.044829  0.497030  \n",
      "1     0.283437 -1.044829  0.497030  \n",
      "2     0.283437 -1.044829  0.497030  \n",
      "3     0.283437 -0.750511 -0.016144  \n",
      "4     0.283437 -1.044829  0.497030  \n",
      "...        ...       ...       ...  \n",
      "8995  0.280629  1.047685  0.491046  \n",
      "8996  0.280629  0.741210 -0.035226  \n",
      "8997  0.280629  0.741210 -0.035226  \n",
      "8998  0.280629  0.741210 -0.035226  \n",
      "8999  0.280629  0.441292  0.134939  \n",
      "\n",
      "[9000 rows x 8 columns]\n"
     ]
    }
   ],
   "source": [
    "# Calculando as coordenadas médias das observações (média de suas categorias)\n",
    "coord_obs['x_obs'] = coord_obs[['x_row','x_col']].mean(axis=1)\n",
    "coord_obs['y_obs'] = coord_obs[['y_row','y_col']].mean(axis=1)\n",
    "print(coord_obs)"
   ]
  },
  {
   "cell_type": "markdown",
   "id": "4ed01dd0-144b-460e-b30f-f2032a06bbcc",
   "metadata": {},
   "source": [
    "# FIM!"
   ]
  },
  {
   "cell_type": "code",
   "execution_count": null,
   "id": "c63e8ae5-1a6f-42ae-add6-e543c19eeb77",
   "metadata": {},
   "outputs": [],
   "source": []
  },
  {
   "cell_type": "code",
   "execution_count": null,
   "id": "67a5aca6-33e7-49eb-8c84-f5001df514fa",
   "metadata": {},
   "outputs": [],
   "source": []
  }
 ],
 "metadata": {
  "kernelspec": {
   "display_name": "Python 3 (ipykernel)",
   "language": "python",
   "name": "python3"
  },
  "language_info": {
   "codemirror_mode": {
    "name": "ipython",
    "version": 3
   },
   "file_extension": ".py",
   "mimetype": "text/x-python",
   "name": "python",
   "nbconvert_exporter": "python",
   "pygments_lexer": "ipython3",
   "version": "3.11.7"
  }
 },
 "nbformat": 4,
 "nbformat_minor": 5
}
