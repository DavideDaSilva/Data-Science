{
 "cells": [
  {
   "cell_type": "markdown",
   "id": "b0da3a5c-f5a7-4654-9b22-75e5253f399e",
   "metadata": {},
   "source": [
    "### Modelagem e Previsão de Custos Médicos: Regressão Não Linear Múltipla com Dummies para Análise de Variáveis Qualitativas e Quantitativas\n",
    "\n",
    "Neste projeto de Data Science, meu objetivo é entender e prever os custos médicos das pessoas com base em algumas variáveis. Tenho dados de 200 pessoas que passaram por consultas ou procedimentos médicos, e quero descobrir quanto elas gastaram com despesas médicas. Para isso, vou analisar várias coisas: a idade das pessoas, quantas doenças crônicas elas têm, a renda delas e o plano de saúde que possuem. Usarei uma técnica chamada regressão não linear múltipla, que me ajudará a encontrar relações complexas entre essas variáveis e os gastos médicos. Além disso, utilizarei \"dummies\", que são uma forma de incluir variáveis qualitativas, como o tipo de plano de saúde, na minha análise. No final, espero obter insights valiosos que me ajudem a entender melhor esses gastos e até prever quanto uma pessoa pode gastar, dependendo das suas características."
   ]
  },
  {
   "cell_type": "code",
   "execution_count": 4,
   "id": "a42b258a-b364-47d4-8db4-6a3f4d2c1fec",
   "metadata": {},
   "outputs": [],
   "source": [
    "# Instalação dos pacotes\n",
    "\n",
    "# !pip install pandas\n",
    "# !pip install numpy\n",
    "# !pip install -U seaborn\n",
    "# !pip install matplotlib\n",
    "# !pip install plotly\n",
    "# !pip install scipy\n",
    "# !pip install statsmodels\n",
    "# !pip install scikit-learn\n",
    "# !pip install pingouin\n",
    "# !pip install statstests"
   ]
  },
  {
   "cell_type": "code",
   "execution_count": 6,
   "id": "d9e090cf-9ca3-4792-99ec-2a22047b1275",
   "metadata": {},
   "outputs": [],
   "source": [
    "# Importação dos pacotes\n",
    "\n",
    "import pandas as pd # manipulação de dados em formato de dataframe\n",
    "import numpy as np # operações matemáticas\n",
    "import seaborn as sns # visualização gráfica\n",
    "import matplotlib.pyplot as plt # visualização gráfica\n",
    "import plotly.graph_objects as go # gráficos 3D\n",
    "from scipy.stats import pearsonr # correlações de Pearson\n",
    "import statsmodels.api as sm # estimação de modelos\n",
    "from statsmodels.iolib.summary2 import summary_col # comparação entre modelos\n",
    "from sklearn.preprocessing import LabelEncoder # transformação de dados\n",
    "import pingouin as pg # outro modo para obtenção de matrizes de correlações\n",
    "from statstests.process import stepwise # procedimento Stepwise\n",
    "from statstests.tests import shapiro_francia # teste de Shapiro-Francia\n",
    "from scipy.stats import boxcox # transformação de Box-Cox\n",
    "from scipy.stats import norm # para plotagem da curva normal\n",
    "from scipy import stats # utilizado na definição da função 'breusch_pagan_test'"
   ]
  }
 ],
 "metadata": {
  "kernelspec": {
   "display_name": "Python 3 (ipykernel)",
   "language": "python",
   "name": "python3"
  },
  "language_info": {
   "codemirror_mode": {
    "name": "ipython",
    "version": 3
   },
   "file_extension": ".py",
   "mimetype": "text/x-python",
   "name": "python",
   "nbconvert_exporter": "python",
   "pygments_lexer": "ipython3",
   "version": "3.11.7"
  }
 },
 "nbformat": 4,
 "nbformat_minor": 5
}
