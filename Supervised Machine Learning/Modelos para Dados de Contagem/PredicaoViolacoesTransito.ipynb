{
 "cells": [
  {
   "cell_type": "markdown",
   "id": "e5d3c8bb-dc60-46a9-9ef8-29fe042f47ed",
   "metadata": {},
   "source": [
    "### Contextualização:\r\n",
    "\r\n",
    "Um levantamento foi realizado com o objetivo de investigar a influência de normas culturais e a aplicação da lei no controle da corrupção, focando no comportamento de estacionamento dos diplomatas das Nações Unidas em Manhattan. Até 2002, a imunidade diplomática protegia os diplomatas da ONU de penalidades de estacionamento, deixando suas ações restritas apenas pelas normas culturais. Em 2002, as autoridades adquiriram o direito de confiscar as placas diplomáticas dos infratores.\r\n",
    "\r\n",
    "**Perguntas**:\r\n",
    "\r\n",
    "1. Qual seria a quantidade média esperada de violações de trânsito para um país cujo corpo diplomático seja composto por X1 membros, considerando o período anterior à vigência da lei e cujo índice de corrupção seja igual a X2?\r\n",
    "\r\n",
    "2. Qual seria a quantidade média esperada de violações de trânsito para o mesmo país, porém agora considerando a vigência da lei?\r\n",
    "\r\n",
    "Para isso, serão construídos um <span style=\"font-family:Comic Sans MS; color:red\">modelo preditivo Poisson</span> e um <span style=\"font-family:Comic Sans MS; color:red\">modelo preditivo Binomial Negativo</span> e, por fim, será feita a comparação dos resultados produzidos pelos modelos."
   ]
  },
  {
   "cell_type": "code",
   "execution_count": 1,
   "id": "ebda35a8-61e7-42b6-ad87-4ce3db0a6ded",
   "metadata": {},
   "outputs": [],
   "source": [
    "# Instalação dos pacotes\n",
    "\n",
    "# !pip install pandas\n",
    "# !pip install numpy\n",
    "# !pip install -U seaborn\n",
    "# !pip install matplotlib\n",
    "# !pip install plotly\n",
    "# !pip install scipy\n",
    "# !pip install statsmodels\n",
    "# !pip install scikit-learn\n",
    "# !pip install statstests"
   ]
  },
  {
   "cell_type": "code",
   "execution_count": null,
   "id": "192c679e-e32a-44cc-8284-eb1dee76cb36",
   "metadata": {},
   "outputs": [],
   "source": []
  }
 ],
 "metadata": {
  "kernelspec": {
   "display_name": "Python 3 (ipykernel)",
   "language": "python",
   "name": "python3"
  },
  "language_info": {
   "codemirror_mode": {
    "name": "ipython",
    "version": 3
   },
   "file_extension": ".py",
   "mimetype": "text/x-python",
   "name": "python",
   "nbconvert_exporter": "python",
   "pygments_lexer": "ipython3",
   "version": "3.11.7"
  }
 },
 "nbformat": 4,
 "nbformat_minor": 5
}
