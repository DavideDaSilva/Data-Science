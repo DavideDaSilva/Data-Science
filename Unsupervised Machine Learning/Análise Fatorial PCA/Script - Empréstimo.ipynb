{
 "cells": [
  {
   "cell_type": "markdown",
   "id": "bd6d698e-d8e1-4e23-8b60-e67eb463759f",
   "metadata": {},
   "source": [
    "# Análise Fatorial PCA"
   ]
  },
  {
   "cell_type": "markdown",
   "id": "4a4866a2-384a-4682-b4ee-54f6a9bdcbb3",
   "metadata": {},
   "source": [
    "# Modelagem de empréstimo bancário\n",
    "Este caso envolve o banco TC Bank (nome fictício), que possui uma crescente base de clientes. A maioria deles são depositantes com diferentes montantes de depósitos. O número de clientes que também são tomadores de empréstimo é pequeno, e o banco deseja aumentar rapidamente essa base para impulsionar os negócios de empréstimo e obter mais lucros com os juros. A gerência quer explorar maneiras de converter depositantes em tomadores de empréstimo pessoal, mantendo-os como depositantes. Uma campanha realizada no ano passado para depositantes resultou em uma taxa de conversão superior a 9%. Esse resultado incentivou o departamento de marketing a planejar campanhas para direcionar melhor o marketing e aumentar a taxa de sucesso com um orçamento mínimo. O departamento pretende construir um modelo para identificar clientes em potencial com maior probabilidade de adquirir empréstimos, aumentando a taxa de sucesso e reduzindo o custo da campanha."
   ]
  },
  {
   "cell_type": "markdown",
   "id": "70b5bd08-bba3-4c25-b0c4-3e119b8b8b5f",
   "metadata": {},
   "source": [
    "#### Instalando os pacotes"
   ]
  },
  {
   "cell_type": "code",
   "execution_count": 1,
   "id": "51fba6fe-8984-4848-a6f6-4c36f8daa1c5",
   "metadata": {},
   "outputs": [
    {
     "name": "stdout",
     "output_type": "stream",
     "text": [
      "Requirement already satisfied: pandas in c:\\users\\khomp\\uspesalqmba\\lib\\site-packages (2.1.4)\n",
      "Requirement already satisfied: numpy<2,>=1.23.2 in c:\\users\\khomp\\uspesalqmba\\lib\\site-packages (from pandas) (1.26.4)\n",
      "Requirement already satisfied: python-dateutil>=2.8.2 in c:\\users\\khomp\\uspesalqmba\\lib\\site-packages (from pandas) (2.8.2)\n",
      "Requirement already satisfied: pytz>=2020.1 in c:\\users\\khomp\\uspesalqmba\\lib\\site-packages (from pandas) (2023.3.post1)\n",
      "Requirement already satisfied: tzdata>=2022.1 in c:\\users\\khomp\\uspesalqmba\\lib\\site-packages (from pandas) (2023.3)\n",
      "Requirement already satisfied: six>=1.5 in c:\\users\\khomp\\uspesalqmba\\lib\\site-packages (from python-dateutil>=2.8.2->pandas) (1.16.0)\n",
      "Requirement already satisfied: numpy in c:\\users\\khomp\\uspesalqmba\\lib\\site-packages (1.26.4)\n",
      "Requirement already satisfied: factor_analyzer in c:\\users\\khomp\\uspesalqmba\\lib\\site-packages (0.5.1)\n",
      "Requirement already satisfied: pandas in c:\\users\\khomp\\uspesalqmba\\lib\\site-packages (from factor_analyzer) (2.1.4)\n",
      "Requirement already satisfied: scipy in c:\\users\\khomp\\uspesalqmba\\lib\\site-packages (from factor_analyzer) (1.11.4)\n",
      "Requirement already satisfied: numpy in c:\\users\\khomp\\uspesalqmba\\lib\\site-packages (from factor_analyzer) (1.26.4)\n",
      "Requirement already satisfied: scikit-learn in c:\\users\\khomp\\uspesalqmba\\lib\\site-packages (from factor_analyzer) (1.2.2)\n",
      "Requirement already satisfied: python-dateutil>=2.8.2 in c:\\users\\khomp\\uspesalqmba\\lib\\site-packages (from pandas->factor_analyzer) (2.8.2)\n",
      "Requirement already satisfied: pytz>=2020.1 in c:\\users\\khomp\\uspesalqmba\\lib\\site-packages (from pandas->factor_analyzer) (2023.3.post1)\n",
      "Requirement already satisfied: tzdata>=2022.1 in c:\\users\\khomp\\uspesalqmba\\lib\\site-packages (from pandas->factor_analyzer) (2023.3)\n",
      "Requirement already satisfied: joblib>=1.1.1 in c:\\users\\khomp\\uspesalqmba\\lib\\site-packages (from scikit-learn->factor_analyzer) (1.2.0)\n",
      "Requirement already satisfied: threadpoolctl>=2.0.0 in c:\\users\\khomp\\uspesalqmba\\lib\\site-packages (from scikit-learn->factor_analyzer) (2.2.0)\n",
      "Requirement already satisfied: six>=1.5 in c:\\users\\khomp\\uspesalqmba\\lib\\site-packages (from python-dateutil>=2.8.2->pandas->factor_analyzer) (1.16.0)\n",
      "Requirement already satisfied: sympy in c:\\users\\khomp\\uspesalqmba\\lib\\site-packages (1.12)\n",
      "Requirement already satisfied: mpmath>=0.19 in c:\\users\\khomp\\uspesalqmba\\lib\\site-packages (from sympy) (1.3.0)\n",
      "Requirement already satisfied: scipy in c:\\users\\khomp\\uspesalqmba\\lib\\site-packages (1.11.4)\n",
      "Requirement already satisfied: numpy<1.28.0,>=1.21.6 in c:\\users\\khomp\\uspesalqmba\\lib\\site-packages (from scipy) (1.26.4)\n",
      "Requirement already satisfied: matplotlib in c:\\users\\khomp\\uspesalqmba\\lib\\site-packages (3.8.0)\n",
      "Requirement already satisfied: contourpy>=1.0.1 in c:\\users\\khomp\\uspesalqmba\\lib\\site-packages (from matplotlib) (1.2.0)\n",
      "Requirement already satisfied: cycler>=0.10 in c:\\users\\khomp\\uspesalqmba\\lib\\site-packages (from matplotlib) (0.11.0)\n",
      "Requirement already satisfied: fonttools>=4.22.0 in c:\\users\\khomp\\uspesalqmba\\lib\\site-packages (from matplotlib) (4.25.0)\n",
      "Requirement already satisfied: kiwisolver>=1.0.1 in c:\\users\\khomp\\uspesalqmba\\lib\\site-packages (from matplotlib) (1.4.4)\n",
      "Requirement already satisfied: numpy<2,>=1.21 in c:\\users\\khomp\\uspesalqmba\\lib\\site-packages (from matplotlib) (1.26.4)\n",
      "Requirement already satisfied: packaging>=20.0 in c:\\users\\khomp\\uspesalqmba\\lib\\site-packages (from matplotlib) (23.1)\n",
      "Requirement already satisfied: pillow>=6.2.0 in c:\\users\\khomp\\uspesalqmba\\lib\\site-packages (from matplotlib) (10.2.0)\n",
      "Requirement already satisfied: pyparsing>=2.3.1 in c:\\users\\khomp\\uspesalqmba\\lib\\site-packages (from matplotlib) (3.0.9)\n",
      "Requirement already satisfied: python-dateutil>=2.7 in c:\\users\\khomp\\uspesalqmba\\lib\\site-packages (from matplotlib) (2.8.2)\n",
      "Requirement already satisfied: six>=1.5 in c:\\users\\khomp\\uspesalqmba\\lib\\site-packages (from python-dateutil>=2.7->matplotlib) (1.16.0)\n",
      "Requirement already satisfied: seaborn in c:\\users\\khomp\\uspesalqmba\\lib\\site-packages (0.13.2)\n",
      "Requirement already satisfied: numpy!=1.24.0,>=1.20 in c:\\users\\khomp\\uspesalqmba\\lib\\site-packages (from seaborn) (1.26.4)\n",
      "Requirement already satisfied: pandas>=1.2 in c:\\users\\khomp\\uspesalqmba\\lib\\site-packages (from seaborn) (2.1.4)\n",
      "Requirement already satisfied: matplotlib!=3.6.1,>=3.4 in c:\\users\\khomp\\uspesalqmba\\lib\\site-packages (from seaborn) (3.8.0)\n",
      "Requirement already satisfied: contourpy>=1.0.1 in c:\\users\\khomp\\uspesalqmba\\lib\\site-packages (from matplotlib!=3.6.1,>=3.4->seaborn) (1.2.0)\n",
      "Requirement already satisfied: cycler>=0.10 in c:\\users\\khomp\\uspesalqmba\\lib\\site-packages (from matplotlib!=3.6.1,>=3.4->seaborn) (0.11.0)\n",
      "Requirement already satisfied: fonttools>=4.22.0 in c:\\users\\khomp\\uspesalqmba\\lib\\site-packages (from matplotlib!=3.6.1,>=3.4->seaborn) (4.25.0)\n",
      "Requirement already satisfied: kiwisolver>=1.0.1 in c:\\users\\khomp\\uspesalqmba\\lib\\site-packages (from matplotlib!=3.6.1,>=3.4->seaborn) (1.4.4)\n",
      "Requirement already satisfied: packaging>=20.0 in c:\\users\\khomp\\uspesalqmba\\lib\\site-packages (from matplotlib!=3.6.1,>=3.4->seaborn) (23.1)\n",
      "Requirement already satisfied: pillow>=6.2.0 in c:\\users\\khomp\\uspesalqmba\\lib\\site-packages (from matplotlib!=3.6.1,>=3.4->seaborn) (10.2.0)\n",
      "Requirement already satisfied: pyparsing>=2.3.1 in c:\\users\\khomp\\uspesalqmba\\lib\\site-packages (from matplotlib!=3.6.1,>=3.4->seaborn) (3.0.9)\n",
      "Requirement already satisfied: python-dateutil>=2.7 in c:\\users\\khomp\\uspesalqmba\\lib\\site-packages (from matplotlib!=3.6.1,>=3.4->seaborn) (2.8.2)\n",
      "Requirement already satisfied: pytz>=2020.1 in c:\\users\\khomp\\uspesalqmba\\lib\\site-packages (from pandas>=1.2->seaborn) (2023.3.post1)\n",
      "Requirement already satisfied: tzdata>=2022.1 in c:\\users\\khomp\\uspesalqmba\\lib\\site-packages (from pandas>=1.2->seaborn) (2023.3)\n",
      "Requirement already satisfied: six>=1.5 in c:\\users\\khomp\\uspesalqmba\\lib\\site-packages (from python-dateutil>=2.7->matplotlib!=3.6.1,>=3.4->seaborn) (1.16.0)\n",
      "Requirement already satisfied: plotly in c:\\users\\khomp\\uspesalqmba\\lib\\site-packages (5.9.0)\n",
      "Requirement already satisfied: tenacity>=6.2.0 in c:\\users\\khomp\\uspesalqmba\\lib\\site-packages (from plotly) (8.2.2)\n",
      "Requirement already satisfied: pingouin in c:\\users\\khomp\\uspesalqmba\\lib\\site-packages (0.5.4)\n",
      "Requirement already satisfied: numpy in c:\\users\\khomp\\uspesalqmba\\lib\\site-packages (from pingouin) (1.26.4)\n",
      "Requirement already satisfied: scipy in c:\\users\\khomp\\uspesalqmba\\lib\\site-packages (from pingouin) (1.11.4)\n",
      "Requirement already satisfied: pandas>=1.5 in c:\\users\\khomp\\uspesalqmba\\lib\\site-packages (from pingouin) (2.1.4)\n",
      "Requirement already satisfied: matplotlib in c:\\users\\khomp\\uspesalqmba\\lib\\site-packages (from pingouin) (3.8.0)\n",
      "Requirement already satisfied: seaborn in c:\\users\\khomp\\uspesalqmba\\lib\\site-packages (from pingouin) (0.13.2)\n",
      "Requirement already satisfied: statsmodels in c:\\users\\khomp\\uspesalqmba\\lib\\site-packages (from pingouin) (0.14.0)\n",
      "Requirement already satisfied: scikit-learn in c:\\users\\khomp\\uspesalqmba\\lib\\site-packages (from pingouin) (1.2.2)\n",
      "Requirement already satisfied: pandas-flavor in c:\\users\\khomp\\uspesalqmba\\lib\\site-packages (from pingouin) (0.6.0)\n",
      "Requirement already satisfied: tabulate in c:\\users\\khomp\\uspesalqmba\\lib\\site-packages (from pingouin) (0.9.0)\n",
      "Requirement already satisfied: python-dateutil>=2.8.2 in c:\\users\\khomp\\uspesalqmba\\lib\\site-packages (from pandas>=1.5->pingouin) (2.8.2)\n",
      "Requirement already satisfied: pytz>=2020.1 in c:\\users\\khomp\\uspesalqmba\\lib\\site-packages (from pandas>=1.5->pingouin) (2023.3.post1)\n",
      "Requirement already satisfied: tzdata>=2022.1 in c:\\users\\khomp\\uspesalqmba\\lib\\site-packages (from pandas>=1.5->pingouin) (2023.3)\n",
      "Requirement already satisfied: contourpy>=1.0.1 in c:\\users\\khomp\\uspesalqmba\\lib\\site-packages (from matplotlib->pingouin) (1.2.0)\n",
      "Requirement already satisfied: cycler>=0.10 in c:\\users\\khomp\\uspesalqmba\\lib\\site-packages (from matplotlib->pingouin) (0.11.0)\n",
      "Requirement already satisfied: fonttools>=4.22.0 in c:\\users\\khomp\\uspesalqmba\\lib\\site-packages (from matplotlib->pingouin) (4.25.0)\n",
      "Requirement already satisfied: kiwisolver>=1.0.1 in c:\\users\\khomp\\uspesalqmba\\lib\\site-packages (from matplotlib->pingouin) (1.4.4)\n",
      "Requirement already satisfied: packaging>=20.0 in c:\\users\\khomp\\uspesalqmba\\lib\\site-packages (from matplotlib->pingouin) (23.1)\n",
      "Requirement already satisfied: pillow>=6.2.0 in c:\\users\\khomp\\uspesalqmba\\lib\\site-packages (from matplotlib->pingouin) (10.2.0)\n",
      "Requirement already satisfied: pyparsing>=2.3.1 in c:\\users\\khomp\\uspesalqmba\\lib\\site-packages (from matplotlib->pingouin) (3.0.9)\n",
      "Requirement already satisfied: xarray in c:\\users\\khomp\\uspesalqmba\\lib\\site-packages (from pandas-flavor->pingouin) (2023.6.0)\n",
      "Requirement already satisfied: joblib>=1.1.1 in c:\\users\\khomp\\uspesalqmba\\lib\\site-packages (from scikit-learn->pingouin) (1.2.0)\n",
      "Requirement already satisfied: threadpoolctl>=2.0.0 in c:\\users\\khomp\\uspesalqmba\\lib\\site-packages (from scikit-learn->pingouin) (2.2.0)\n",
      "Requirement already satisfied: patsy>=0.5.2 in c:\\users\\khomp\\uspesalqmba\\lib\\site-packages (from statsmodels->pingouin) (0.5.3)\n",
      "Requirement already satisfied: six in c:\\users\\khomp\\uspesalqmba\\lib\\site-packages (from patsy>=0.5.2->statsmodels->pingouin) (1.16.0)\n",
      "Requirement already satisfied: pyshp in c:\\users\\khomp\\uspesalqmba\\lib\\site-packages (2.3.1)\n"
     ]
    }
   ],
   "source": [
    "!pip install pandas\n",
    "!pip install numpy\n",
    "!pip install factor_analyzer\n",
    "!pip install sympy\n",
    "!pip install scipy\n",
    "!pip install matplotlib\n",
    "!pip install seaborn\n",
    "!pip install plotly\n",
    "!pip install pingouin\n",
    "!pip install pyshp"
   ]
  },
  {
   "cell_type": "markdown",
   "id": "8720936b-0954-402d-b0f5-6c2a2702eaf0",
   "metadata": {},
   "source": [
    "#### Importando os pacotes necessários"
   ]
  },
  {
   "cell_type": "code",
   "execution_count": 3,
   "id": "43b1fe6b-b765-41f1-8c97-6e3c8be59e61",
   "metadata": {},
   "outputs": [],
   "source": [
    "import pandas as pd\n",
    "import numpy as np\n",
    "from factor_analyzer import FactorAnalyzer\n",
    "from factor_analyzer.factor_analyzer import calculate_bartlett_sphericity\n",
    "import pingouin as pg\n",
    "import matplotlib.pyplot as plt\n",
    "import seaborn as sns\n",
    "import plotly.io as pio\n",
    "pio.renderers.default = 'browser'\n",
    "import plotly.graph_objects as go\n",
    "import sympy as sy\n",
    "import scipy as sp"
   ]
  },
  {
   "cell_type": "markdown",
   "id": "af8b71f7-d52b-4add-8f31-5c9896aa7c6d",
   "metadata": {},
   "source": [
    "#### Importando o banco de dados"
   ]
  },
  {
   "cell_type": "code",
   "execution_count": 4,
   "id": "3a61ae36-d2e6-4c6b-948e-5ee55dd112d8",
   "metadata": {},
   "outputs": [
    {
     "data": {
      "text/plain": [
       "'\\n Family: Family size of the customer\\n CCAvg: Avg. spending on credit cards per month ($000)\\n Mortgage (Ipoteca): Value of house mortgage if any\\n Experience: number of years of professional experience\\n Income: Annual income of the customer ($000)\\n'"
      ]
     },
     "execution_count": 4,
     "metadata": {},
     "output_type": "execute_result"
    }
   ],
   "source": [
    "emprestimo = pd.read_excel(\"emprestimo_banco.xlsx\")\n",
    "# Fonte: adaptado de https://www.kaggle.com/datasets/itsmesunil/bank-loan-modelling\n",
    "'''\n",
    " Family: Family size of the customer\n",
    " CCAvg: Avg. spending on credit cards per month ($000)\n",
    " Mortgage (Ipoteca): Value of house mortgage if any\n",
    " Experience: number of years of professional experience\n",
    " Income: Annual income of the customer ($000)\n",
    "'''\n",
    "\n",
    "## TODAS DAS VARIÁVEIS DE INTERESSE SÃO MÉTRICAS. PORTANTO, PODEMOS PROSSEGUIR"
   ]
  },
  {
   "cell_type": "markdown",
   "id": "c47f8a5b-51d9-45fd-8d29-2cd0c8f95033",
   "metadata": {},
   "source": [
    "#### Separando somente as variáveis para a análise fatorial PCA"
   ]
  },
  {
   "cell_type": "code",
   "execution_count": 7,
   "id": "9f4c1b7b-25cd-4d06-8263-7fd2f9821371",
   "metadata": {},
   "outputs": [
    {
     "name": "stdout",
     "output_type": "stream",
     "text": [
      "      Age  Experience  Income  Family  CCAvg  Mortgage\n",
      "0      25           1      49       4    1.6         0\n",
      "1      45          19      34       3    1.5         0\n",
      "2      39          15      11       1    1.0         0\n",
      "3      35           9     100       1    2.7         0\n",
      "4      35           8      45       4    1.0         0\n",
      "...   ...         ...     ...     ...    ...       ...\n",
      "4995   29           3      40       1    1.9         0\n",
      "4996   30           4      15       4    0.4        85\n",
      "4997   63          39      24       2    0.3         0\n",
      "4998   65          40      49       3    0.5         0\n",
      "4999   28           4      83       3    0.8         0\n",
      "\n",
      "[5000 rows x 6 columns]\n"
     ]
    }
   ],
   "source": [
    "emprestimo_pca = emprestimo.drop(columns=['ID'])\n",
    "print(emprestimo_pca)"
   ]
  },
  {
   "cell_type": "markdown",
   "id": "dc4e8732-ec8c-4d96-aebe-82dc718d9f5b",
   "metadata": {},
   "source": [
    "#### Estatísticas descritivas das variáveis"
   ]
  },
  {
   "cell_type": "code",
   "execution_count": 9,
   "id": "c2402845-4790-4e65-9781-4cbb8047b0a0",
   "metadata": {},
   "outputs": [
    {
     "name": "stdout",
     "output_type": "stream",
     "text": [
      "               Age   Experience       Income       Family        CCAvg  \\\n",
      "count  5000.000000  5000.000000  5000.000000  5000.000000  5000.000000   \n",
      "mean     45.338400    20.119600    73.774200     2.396400     1.937913   \n",
      "std      11.463166    11.440484    46.033729     1.147663     1.747666   \n",
      "min      23.000000     0.000000     8.000000     1.000000     0.000000   \n",
      "25%      35.000000    10.000000    39.000000     1.000000     0.700000   \n",
      "50%      45.000000    20.000000    64.000000     2.000000     1.500000   \n",
      "75%      55.000000    30.000000    98.000000     3.000000     2.500000   \n",
      "max      67.000000    43.000000   224.000000     4.000000    10.000000   \n",
      "\n",
      "          Mortgage  \n",
      "count  5000.000000  \n",
      "mean     56.498800  \n",
      "std     101.713802  \n",
      "min       0.000000  \n",
      "25%       0.000000  \n",
      "50%       0.000000  \n",
      "75%     101.000000  \n",
      "max     635.000000  \n"
     ]
    }
   ],
   "source": [
    "tab_desc = emprestimo_pca.describe()\n",
    "print(tab_desc)"
   ]
  },
  {
   "cell_type": "markdown",
   "id": "5cb5e7f6-f1ee-4190-babe-bb1fc6e7246e",
   "metadata": {},
   "source": [
    "#### Matriz de correlações de Pearson"
   ]
  },
  {
   "cell_type": "code",
   "execution_count": 10,
   "id": "764baa32-e42d-4e40-9130-7abb113ce3de",
   "metadata": {},
   "outputs": [],
   "source": [
    "# Matriz de correlações em um objeto \"simples\"\n",
    "\n",
    "corr = emprestimo_pca.corr()\n",
    "\n",
    "# Gráfico interativo\n",
    "\n",
    "fig = go.Figure()\n",
    "\n",
    "fig.add_trace(\n",
    "    go.Heatmap(\n",
    "        x = corr.columns,\n",
    "        y = corr.index,\n",
    "        z = np.array(corr),\n",
    "        text=corr.values,\n",
    "        texttemplate='%{text:.3f}',\n",
    "        colorscale='viridis'))\n",
    "\n",
    "fig.update_layout(\n",
    "    height = 600,\n",
    "    width = 600,\n",
    "    yaxis=dict(autorange=\"reversed\"))\n",
    "\n",
    "fig.show()"
   ]
  },
  {
   "cell_type": "markdown",
   "id": "a4311d51-25d0-476d-af0f-db3956be2d80",
   "metadata": {},
   "source": [
    "#### Teste de Esfericidade de Bartlett"
   ]
  },
  {
   "cell_type": "code",
   "execution_count": 11,
   "id": "9e328bfb-3b66-4700-a709-142ad5b5d481",
   "metadata": {},
   "outputs": [
    {
     "name": "stdout",
     "output_type": "stream",
     "text": [
      "Qui² Bartlett: 25409.78\n",
      "p-valor: 0.0\n"
     ]
    }
   ],
   "source": [
    "bartlett, p_value = calculate_bartlett_sphericity(emprestimo_pca)\n",
    "\n",
    "print(f'Qui² Bartlett: {round(bartlett, 2)}')\n",
    "print(f'p-valor: {round(p_value, 4)}')"
   ]
  },
  {
   "cell_type": "markdown",
   "id": "5c40f73f-c77d-4670-a5c1-618823beddf9",
   "metadata": {},
   "source": [
    "#### Definindo a PCA (procedimento inicial com todos os fatores possíveis)"
   ]
  },
  {
   "cell_type": "code",
   "execution_count": 12,
   "id": "e692ad85-9823-4989-bd9d-bc91932535ca",
   "metadata": {},
   "outputs": [],
   "source": [
    "fa = FactorAnalyzer(n_factors=6, method='principal', rotation=None).fit(emprestimo_pca)"
   ]
  },
  {
   "cell_type": "markdown",
   "id": "9db23dea-1d8d-457d-8eb4-ff082d54d861",
   "metadata": {},
   "source": [
    "#### Obtendo os eigenvalues (autovalores): resultantes da função FactorAnalyzer"
   ]
  },
  {
   "cell_type": "code",
   "execution_count": 15,
   "id": "0d275f57-51a9-4366-a7d8-063493d0839a",
   "metadata": {},
   "outputs": [
    {
     "name": "stdout",
     "output_type": "stream",
     "text": [
      "[2.02800719 1.73665956 0.97645432 0.90872121 0.34441264 0.00574507]\n"
     ]
    },
    {
     "data": {
      "text/plain": [
       "6.0"
      ]
     },
     "execution_count": 15,
     "metadata": {},
     "output_type": "execute_result"
    }
   ],
   "source": [
    "autovalores = fa.get_eigenvalues()[0]\n",
    "\n",
    "print(autovalores)\n",
    "\n",
    "# Soma dos autovalores\n",
    "\n",
    "round(autovalores.sum(), 2) # A soma dos AUTOVALORES tem que ser igual ao total de variáveis originais. Mas se aplicarmos o Critério de Kaiser (raiz latente) e selecionarmos alguns autovalores, então a soma total dos AUTOVALORES não será igual ao total de variáveis originais."
   ]
  },
  {
   "cell_type": "markdown",
   "id": "1586226f-4457-472a-a351-819260d54677",
   "metadata": {},
   "source": [
    "#### Redefinindo a PCA pelo critério da raiz latente"
   ]
  },
  {
   "cell_type": "code",
   "execution_count": 16,
   "id": "8126d613-1503-4417-ac21-2c2f2a7055c4",
   "metadata": {},
   "outputs": [],
   "source": [
    "# Há dois fatores derivados de autovalores > 1\n",
    "\n",
    "fa = FactorAnalyzer(n_factors=2, method='principal', rotation=None).fit(emprestimo_pca)"
   ]
  },
  {
   "cell_type": "markdown",
   "id": "b9bedb71-8094-4ce1-8d55-8919b17c1113",
   "metadata": {},
   "source": [
    "#### Eigenvalues, variâncias e variâncias acumuladas"
   ]
  },
  {
   "cell_type": "code",
   "execution_count": 17,
   "id": "ccebdfb1-eb91-42ec-a491-2276aac0203f",
   "metadata": {},
   "outputs": [
    {
     "name": "stdout",
     "output_type": "stream",
     "text": [
      "         Autovalor  Variância  Variância Acumulada\n",
      "Fator 1   2.028007   0.338001             0.338001\n",
      "Fator 2   1.736660   0.289443             0.627444\n"
     ]
    }
   ],
   "source": [
    "autovalores_fatores = fa.get_factor_variance() ## \"get_factor_variance\" traz \"Eigenvalues\", \"variâncias\" e \"variâncias acumuladas\"\n",
    "\n",
    "tabela_eigen = pd.DataFrame(autovalores_fatores)\n",
    "tabela_eigen.columns = [f\"Fator {i+1}\" for i, v in enumerate(tabela_eigen.columns)]\n",
    "tabela_eigen.index = ['Autovalor','Variância', 'Variância Acumulada']\n",
    "tabela_eigen = tabela_eigen.T\n",
    "\n",
    "print(tabela_eigen)\n",
    "# Ao todo, 0.627444 (62%) da variância das variáveis originais estão representados nesses fatores extraídos."
   ]
  },
  {
   "cell_type": "markdown",
   "id": "ac23affa-bcb2-4a1f-b97c-02c44ef7a8af",
   "metadata": {},
   "source": [
    "#### Determinando as cargas fatoriais"
   ]
  },
  {
   "cell_type": "code",
   "execution_count": 18,
   "id": "abf90311-81e7-456a-bb66-f005d1617abe",
   "metadata": {},
   "outputs": [
    {
     "name": "stdout",
     "output_type": "stream",
     "text": [
      "             Fator 1   Fator 2\n",
      "Age         0.959012  0.271073\n",
      "Experience  0.957367  0.277678\n",
      "Income     -0.301979  0.837176\n",
      "Family     -0.011960 -0.344334\n",
      "CCAvg      -0.295701  0.800263\n",
      "Mortgage   -0.113918  0.355280\n"
     ]
    }
   ],
   "source": [
    "cargas_fatoriais = fa.loadings_ # Os loadings_ são as cargas fatoriais\n",
    "\n",
    "tabela_cargas = pd.DataFrame(cargas_fatoriais)\n",
    "tabela_cargas.columns = [f\"Fator {i+1}\" for i, v in enumerate(tabela_cargas.columns)]\n",
    "tabela_cargas.index = emprestimo_pca.columns\n",
    "\n",
    "print(tabela_cargas)"
   ]
  },
  {
   "cell_type": "markdown",
   "id": "66ec5c7e-8ac6-4d38-814e-9791113d7aa9",
   "metadata": {},
   "source": [
    "#### Gráfico das cargas fatoriais (loading plot)"
   ]
  },
  {
   "cell_type": "code",
   "execution_count": 19,
   "id": "947648d5-6734-406e-b2dc-ff25163bbb32",
   "metadata": {},
   "outputs": [
    {
     "data": {
      "image/png": "[encoded data removed]",
      "text/plain": [
       "<Figure size 1200x800 with 1 Axes>"
      ]
     },
     "metadata": {},
     "output_type": "display_data"
    }
   ],
   "source": [
    "plt.figure(figsize=(12,8))\n",
    "tabela_cargas_chart = tabela_cargas.reset_index()\n",
    "plt.scatter(tabela_cargas_chart['Fator 1'], tabela_cargas_chart['Fator 2'], s=30, color='red')\n",
    "\n",
    "def label_point(x, y, val, ax):\n",
    "    a = pd.concat({'x': x, 'y': y, 'val': val}, axis=1)\n",
    "    for i, point in a.iterrows():\n",
    "        ax.text(point['x'] + 0.02, point['y'], point['val'], fontsize=8)\n",
    "\n",
    "label_point(x = tabela_cargas_chart['Fator 1'],\n",
    "            y = tabela_cargas_chart['Fator 2'],\n",
    "            val = tabela_cargas_chart['index'],\n",
    "            ax = plt.gca()) \n",
    "\n",
    "plt.axhline(y=0, color='grey', ls='--')\n",
    "plt.axvline(x=0, color='grey', ls='--')\n",
    "plt.ylim([-1.1,1.1])\n",
    "plt.xlim([-1.1,1.1])\n",
    "plt.title(\"Loading Plot\", fontsize=16)\n",
    "plt.xlabel(f\"Fator 1: {round(tabela_eigen.iloc[0]['Variância']*100,2)}% de variância explicada\", fontsize=12)\n",
    "plt.ylabel(f\"Fator 2: {round(tabela_eigen.iloc[1]['Variância']*100,2)}% de variância explicada\", fontsize=12)\n",
    "plt.show()"
   ]
  },
  {
   "cell_type": "markdown",
   "id": "8071ed99-ae6f-487d-9370-e1737fec122b",
   "metadata": {},
   "source": [
    "#### Determinando as comunalidades"
   ]
  },
  {
   "cell_type": "code",
   "execution_count": 20,
   "id": "0729af71-9746-4466-87b7-66ca73d97c46",
   "metadata": {},
   "outputs": [
    {
     "name": "stdout",
     "output_type": "stream",
     "text": [
      "            Comunalidades\n",
      "Age              0.993184\n",
      "Experience       0.993658\n",
      "Income           0.792054\n",
      "Family           0.118709\n",
      "CCAvg            0.727860\n",
      "Mortgage         0.139201\n"
     ]
    }
   ],
   "source": [
    "comunalidades = fa.get_communalities()\n",
    "\n",
    "tabela_comunalidades = pd.DataFrame(comunalidades)\n",
    "tabela_comunalidades.columns = ['Comunalidades']\n",
    "tabela_comunalidades.index = emprestimo_pca.columns\n",
    "\n",
    "print(tabela_comunalidades)"
   ]
  },
  {
   "cell_type": "markdown",
   "id": "9e0a56fe-103f-461c-8b9b-696e589cd0fd",
   "metadata": {},
   "source": [
    "#### Extração dos fatores para as observações do banco de dados"
   ]
  },
  {
   "cell_type": "code",
   "execution_count": 21,
   "id": "00ce917a-60ad-4f9b-a616-24e3744b3966",
   "metadata": {},
   "outputs": [],
   "source": [
    "fatores = pd.DataFrame(fa.transform(emprestimo_pca)) # \"fa.transform(casas_pca)\" calcula Fatores. A padronização (ZCORE) é feito internamente.\n",
    "fatores.columns =  [f\"Fator {i+1}\" for i, v in enumerate(fatores.columns)]"
   ]
  },
  {
   "cell_type": "markdown",
   "id": "9d79b059-1628-448e-a366-0ab8bb62a1b3",
   "metadata": {},
   "source": [
    "#### Identificando os scores fatoriais"
   ]
  },
  {
   "cell_type": "code",
   "execution_count": 22,
   "id": "8cc95b73-cefa-4743-a4fe-a28777f9f8cf",
   "metadata": {},
   "outputs": [
    {
     "name": "stdout",
     "output_type": "stream",
     "text": [
      "             Fator 1   Fator 2\n",
      "Age         0.472884  0.156089\n",
      "Experience  0.472073  0.159892\n",
      "Income     -0.148904  0.482061\n",
      "Family     -0.005898 -0.198274\n",
      "CCAvg      -0.145809  0.460806\n",
      "Mortgage   -0.056173  0.204577\n"
     ]
    }
   ],
   "source": [
    "scores = fa.weights_ ## CRIA TABELA SEM FORMATAÇÃO\n",
    "\n",
    "tabela_scores = pd.DataFrame(scores)\n",
    "tabela_scores.columns = [f\"Fator {i+1}\" for i, v in enumerate(tabela_scores.columns)]\n",
    "tabela_scores.index = emprestimo_pca.columns\n",
    "\n",
    "print(tabela_scores)"
   ]
  },
  {
   "cell_type": "markdown",
   "id": "2238b512-cc46-4214-b062-cbe858eea793",
   "metadata": {},
   "source": [
    "#### Em certos casos, a \"rotação de fatores\" pode melhorar a interpretação\n",
    "######  Analisando pelo loading plot, aplica-se a rotação dos eixos na origem (0,0)\n",
    "######  O método mais comum é a 'varimax', que é a rotação ortogonal dos fatores\n",
    "######  O objetivo é aumentar a carga fatorial em um fator e diminuir em outro\n",
    "######  Em resumo, trata-se de uma redistribuição de cargas fatoriais"
   ]
  },
  {
   "cell_type": "markdown",
   "id": "f45aaf41-6e9b-4e0d-81c4-7518f551efff",
   "metadata": {},
   "source": [
    "#### Adicionando a rotação: rotation='varimax'"
   ]
  },
  {
   "cell_type": "code",
   "execution_count": 23,
   "id": "8d32ada9-ad5c-48e0-a68a-cdc2e1b231c1",
   "metadata": {},
   "outputs": [],
   "source": [
    "# Aplicando a rotação aos 2 fatores extraídos\n",
    "\n",
    "fa = FactorAnalyzer(n_factors=2, method='principal', rotation='varimax').fit(emprestimo_pca)\n",
    "### QUANDO O NOSSO INTERESSE FOR DE \"Aplicar a rotação aos fatores extraídos\", aí sim colocamos o método \"varimax\" no lugar de None. Mas há outros métodos que podem ser aplicados."
   ]
  },
  {
   "cell_type": "markdown",
   "id": "55c5bd20-d5a3-4c8e-9f97-3ae660cf4cf6",
   "metadata": {},
   "source": [
    "#### Eigenvalues, variâncias e variâncias acumuladas"
   ]
  },
  {
   "cell_type": "code",
   "execution_count": 24,
   "id": "84d554bf-b953-4622-a01e-d7cd34e1c6be",
   "metadata": {},
   "outputs": [
    {
     "name": "stdout",
     "output_type": "stream",
     "text": [
      "         Autovalor  Variância  Variância Acumulada\n",
      "Fator 1   2.007323   0.334554             0.334554\n",
      "Fator 2   1.757344   0.292891             0.627444\n"
     ]
    }
   ],
   "source": [
    "autovalores_fatores = fa.get_factor_variance()\n",
    "\n",
    "tabela_eigen = pd.DataFrame(autovalores_fatores)\n",
    "tabela_eigen.columns = [f\"Fator {i+1}\" for i, v in enumerate(tabela_eigen.columns)]\n",
    "tabela_eigen.index = ['Autovalor','Variância', 'Variância Acumulada']\n",
    "tabela_eigen = tabela_eigen.T\n",
    "\n",
    "print(tabela_eigen)"
   ]
  },
  {
   "cell_type": "markdown",
   "id": "c277c7df-9ad1-4e2b-a63c-c8cc13612cca",
   "metadata": {},
   "source": [
    "#### Determinando as cargas fatoriais"
   ]
  },
  {
   "cell_type": "code",
   "execution_count": 25,
   "id": "b388c93b-bd4a-492c-ac13-0e9e97dd4776",
   "metadata": {},
   "outputs": [
    {
     "name": "stdout",
     "output_type": "stream",
     "text": [
      "             Fator 1   Fator 2\n",
      "Age         0.996570  0.005748\n",
      "Experience  0.996745  0.012552\n",
      "Income     -0.067999  0.887373\n",
      "Family     -0.103275 -0.328699\n",
      "CCAvg      -0.071784  0.850122\n",
      "Mortgage   -0.015137  0.372790\n"
     ]
    }
   ],
   "source": [
    "cargas_fatoriais = fa.loadings_\n",
    "\n",
    "tabela_cargas = pd.DataFrame(cargas_fatoriais)\n",
    "tabela_cargas.columns = [f\"Fator {i+1}\" for i, v in enumerate(tabela_cargas.columns)]\n",
    "tabela_cargas.index = emprestimo_pca.columns\n",
    "\n",
    "print(tabela_cargas)"
   ]
  },
  {
   "cell_type": "markdown",
   "id": "4cab5acb-98aa-41d7-9dc7-a1b288b2a32e",
   "metadata": {},
   "source": [
    "#### Gráfico das cargas fatoriais (loading plot)"
   ]
  },
  {
   "cell_type": "code",
   "execution_count": 26,
   "id": "29bd1ea8-8baf-4e45-bdeb-ff5c939a04dd",
   "metadata": {},
   "outputs": [
    {
     "data": {
      "image/png": "[encoded data removed]",
      "text/plain": [
       "<Figure size 1200x800 with 1 Axes>"
      ]
     },
     "metadata": {},
     "output_type": "display_data"
    }
   ],
   "source": [
    "plt.figure(figsize=(12,8))\n",
    "tabela_cargas_chart = tabela_cargas.reset_index()\n",
    "plt.scatter(tabela_cargas_chart['Fator 1'], tabela_cargas_chart['Fator 2'], s=30, color='blue')\n",
    "\n",
    "def label_point(x, y, val, ax):\n",
    "    a = pd.concat({'x': x, 'y': y, 'val': val}, axis=1)\n",
    "    for i, point in a.iterrows():\n",
    "        ax.text(point['x'] + 0.02, point['y'], point['val'], fontsize=8)\n",
    "\n",
    "label_point(x = tabela_cargas_chart['Fator 1'],\n",
    "            y = tabela_cargas_chart['Fator 2'],\n",
    "            val = tabela_cargas_chart['index'],\n",
    "            ax = plt.gca()) \n",
    "\n",
    "plt.axhline(y=0, color='grey', ls='--')\n",
    "plt.axvline(x=0, color='grey', ls='--')\n",
    "plt.ylim([-1.1,1.1])\n",
    "plt.xlim([-1.1,1.1])\n",
    "plt.title(\"Loading Plot - Fatores Rotacionados\", fontsize=16)\n",
    "plt.xlabel(f\"Fator 1: {round(tabela_eigen.iloc[0]['Variância']*100,2)}% de variância explicada\", fontsize=12)\n",
    "plt.ylabel(f\"Fator 2: {round(tabela_eigen.iloc[1]['Variância']*100,2)}% de variância explicada\", fontsize=12)\n",
    "plt.show()"
   ]
  },
  {
   "cell_type": "markdown",
   "id": "2d4b7b78-5c72-4e8d-9c7d-8cf105cfd7d8",
   "metadata": {},
   "source": [
    "#### Determinando as comunalidades"
   ]
  },
  {
   "cell_type": "code",
   "execution_count": 27,
   "id": "01833197-f234-4314-a697-4a45aa5139c0",
   "metadata": {},
   "outputs": [
    {
     "name": "stdout",
     "output_type": "stream",
     "text": [
      "            Comunalidades\n",
      "Age              0.993184\n",
      "Experience       0.993658\n",
      "Income           0.792054\n",
      "Family           0.118709\n",
      "CCAvg            0.727860\n",
      "Mortgage         0.139201\n"
     ]
    }
   ],
   "source": [
    "comunalidades = fa.get_communalities()\n",
    "\n",
    "tabela_comunalidades = pd.DataFrame(comunalidades)\n",
    "tabela_comunalidades.columns = ['Comunalidades']\n",
    "tabela_comunalidades.index = emprestimo_pca.columns\n",
    "\n",
    "print(tabela_comunalidades)"
   ]
  },
  {
   "cell_type": "markdown",
   "id": "a38d315a-4b7d-4af6-abd0-033721c07a40",
   "metadata": {},
   "source": [
    "#### Extração dos fatores para as observações do banco de dados"
   ]
  },
  {
   "cell_type": "code",
   "execution_count": 28,
   "id": "5d0bda68-4501-404c-9ce7-af7ee336fb01",
   "metadata": {},
   "outputs": [],
   "source": [
    "fatores = pd.DataFrame(fa.transform(emprestimo_pca)) # A padronização (ZCORE) é feito internamente.\n",
    "fatores.columns =  [f\"Fator {i+1}\" for i, v in enumerate(fatores.columns)]\n",
    "\n",
    "# Adicionando os fatores ao banco de dados\n",
    "\n",
    "emprestimo = pd.concat([emprestimo.reset_index(drop=True), fatores], axis=1)"
   ]
  },
  {
   "cell_type": "markdown",
   "id": "b81afd02-7f97-4071-995f-72485fd3876e",
   "metadata": {},
   "source": [
    "#### Identificando os scores fatoriais"
   ]
  },
  {
   "cell_type": "code",
   "execution_count": 29,
   "id": "2a7c7ed6-0d53-4ccc-ad57-969c861efb4b",
   "metadata": {},
   "outputs": [
    {
     "name": "stdout",
     "output_type": "stream",
     "text": [
      "             Fator 1   Fator 2\n",
      "Age         0.497378  0.024448\n",
      "Experience  0.497610  0.028330\n",
      "Income     -0.015077  0.504309\n",
      "Family     -0.058514 -0.189535\n",
      "CCAvg      -0.017757  0.482998\n",
      "Mortgage    0.000367  0.212148\n"
     ]
    }
   ],
   "source": [
    "scores = fa.weights_\n",
    "\n",
    "tabela_scores = pd.DataFrame(scores)\n",
    "tabela_scores.columns = [f\"Fator {i+1}\" for i, v in enumerate(tabela_scores.columns)]\n",
    "tabela_scores.index = emprestimo_pca.columns\n",
    "\n",
    "print(tabela_scores)"
   ]
  },
  {
   "cell_type": "markdown",
   "id": "3fb852ca-29b1-4598-860f-c4487e07d5c9",
   "metadata": {},
   "source": [
    "#### Interpretando os scores fatoriais em cada fator extraído"
   ]
  },
  {
   "cell_type": "code",
   "execution_count": 30,
   "id": "f29ae717-1ec1-47f5-8266-b6aca78d0a2f",
   "metadata": {},
   "outputs": [
    {
     "data": {
      "image/png": "[encoded data removed]",
      "text/plain": [
       "<Figure size 640x480 with 1 Axes>"
      ]
     },
     "metadata": {},
     "output_type": "display_data"
    }
   ],
   "source": [
    "tabela_scores_graph = tabela_scores.reset_index()\n",
    "tabela_scores_graph = tabela_scores_graph.melt(id_vars='index')\n",
    "\n",
    "sns.barplot(data=tabela_scores_graph, x='variable', y='value', hue='index', palette='viridis')\n",
    "plt.legend(title='Variáveis', bbox_to_anchor=(1,1), fontsize = '6')\n",
    "plt.title('Scores Fatoriais', fontsize='12')\n",
    "plt.xlabel(xlabel=None)\n",
    "plt.ylabel(ylabel=None)\n",
    "plt.show()"
   ]
  },
  {
   "cell_type": "markdown",
   "id": "6cfba8e2-5fb5-459f-bdcb-52c83f2dbf8c",
   "metadata": {},
   "source": [
    "#### Os fatores continuam ortogonais"
   ]
  },
  {
   "cell_type": "code",
   "execution_count": 31,
   "id": "429eddc2-3f70-4794-ad4a-778181070859",
   "metadata": {},
   "outputs": [
    {
     "name": "stderr",
     "output_type": "stream",
     "text": [
      "C:\\Users\\Khomp\\USPesalqMBA\\Lib\\site-packages\\pingouin\\correlation.py:1116: FutureWarning:\n",
      "\n",
      "DataFrame.applymap has been deprecated. Use DataFrame.map instead.\n",
      "\n"
     ]
    },
    {
     "data": {
      "text/html": [
       "<div>\n",
       "<style scoped>\n",
       "    .dataframe tbody tr th:only-of-type {\n",
       "        vertical-align: middle;\n",
       "    }\n",
       "\n",
       "    .dataframe tbody tr th {\n",
       "        vertical-align: top;\n",
       "    }\n",
       "\n",
       "    .dataframe thead th {\n",
       "        text-align: right;\n",
       "    }\n",
       "</style>\n",
       "<table border=\"1\" class=\"dataframe\">\n",
       "  <thead>\n",
       "    <tr style=\"text-align: right;\">\n",
       "      <th></th>\n",
       "      <th>Fator 1</th>\n",
       "      <th>Fator 2</th>\n",
       "    </tr>\n",
       "  </thead>\n",
       "  <tbody>\n",
       "    <tr>\n",
       "      <th>Fator 1</th>\n",
       "      <td>-</td>\n",
       "      <td></td>\n",
       "    </tr>\n",
       "    <tr>\n",
       "      <th>Fator 2</th>\n",
       "      <td>0.0</td>\n",
       "      <td>-</td>\n",
       "    </tr>\n",
       "  </tbody>\n",
       "</table>\n",
       "</div>"
      ],
      "text/plain": [
       "        Fator 1 Fator 2\n",
       "Fator 1       -        \n",
       "Fator 2     0.0       -"
      ]
     },
     "execution_count": 31,
     "metadata": {},
     "output_type": "execute_result"
    }
   ],
   "source": [
    "pg.rcorr(emprestimo[['Fator 1', 'Fator 2']], \n",
    "         method = 'pearson', upper = 'pval', \n",
    "         decimals = 4, \n",
    "         pval_stars = {0.01: '***', 0.05: '**', 0.10: '*'})"
   ]
  },
  {
   "cell_type": "code",
   "execution_count": null,
   "id": "1efde485-3022-407c-8d89-e4631b985b93",
   "metadata": {},
   "outputs": [],
   "source": [
    "# FIM!"
   ]
  }
 ],
 "metadata": {
  "kernelspec": {
   "display_name": "Python 3 (ipykernel)",
   "language": "python",
   "name": "python3"
  },
  "language_info": {
   "codemirror_mode": {
    "name": "ipython",
    "version": 3
   },
   "file_extension": ".py",
   "mimetype": "text/x-python",
   "name": "python",
   "nbconvert_exporter": "python",
   "pygments_lexer": "ipython3",
   "version": "3.11.7"
  }
 },
 "nbformat": 4,
 "nbformat_minor": 5
}
